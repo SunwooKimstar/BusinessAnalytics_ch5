{
 "cells": [
  {
   "attachments": {},
   "cell_type": "markdown",
   "id": "9a46805d",
   "metadata": {},
   "source": [
    "## **(Virtual Adversarial Training) VAT**"
   ]
  },
  {
   "attachments": {},
   "cell_type": "markdown",
   "id": "84831ae0",
   "metadata": {},
   "source": [
    "#### **Loss function**\n",
    "\n",
    "- loss function은 perturbation이 적용된 input을 모델에 넣었을 떄의 output과 perturbation이 적용되지 않은 input을 모델에 넣었을 때의 output간의 KL divergence로 구하게 됩니다.\n",
    "- 또한 label이 있는 이미지에 대해서는 cross entropy loss를 이용하고 있습니다."
   ]
  },
  {
   "cell_type": "code",
   "execution_count": 1,
   "id": "a58432e1-7d98-4266-b2eb-93a17d2f03a5",
   "metadata": {},
   "outputs": [],
   "source": [
    "import sys\n",
    "sys.path.append(\".\")\n",
    "import argparse\n",
    "from torchvision import datasets, transforms\n",
    "import pandas as pd\n",
    "import torch.optim as optim\n",
    "from model import *\n",
    "from utils import *\n",
    "import matplotlib.pyplot as plt\n",
    "import seaborn as sns\n",
    "plt.rcParams['figure.figsize'] = [12, 4]\n",
    "import os\n",
    "import json"
   ]
  },
  {
   "attachments": {},
   "cell_type": "markdown",
   "id": "ffa15404",
   "metadata": {},
   "source": [
    "- 기본적인 설정값을 지정"
   ]
  },
  {
   "cell_type": "code",
   "execution_count": 2,
   "id": "90a9a432-0994-4f59-afa2-f5498e9bc605",
   "metadata": {},
   "outputs": [],
   "source": [
    "batch_size = 32\n",
    "eval_batch_size = 100\n",
    "unlabeled_batch_size = 128\n",
    "num_labeled = 1000\n",
    "num_valid = 1000\n",
    "num_iter_per_epoch = 400\n",
    "eval_freq = 5\n",
    "lr = 0.001\n",
    "cuda_device = \"0\""
   ]
  },
  {
   "attachments": {},
   "cell_type": "markdown",
   "id": "13f1ed8f",
   "metadata": {},
   "source": [
    "- arguments 지정"
   ]
  },
  {
   "cell_type": "code",
   "execution_count": 3,
   "id": "884f14d5",
   "metadata": {},
   "outputs": [],
   "source": [
    "parser = argparse.ArgumentParser()\n",
    "\n",
    "parser.add_argument('--dataset', default = 'svhn',  help='cifar10 | svhn')\n",
    "parser.add_argument('--dataroot', default = './data',  help='path to dataset')\n",
    "parser.add_argument('--use_cuda', type=bool, default=True)\n",
    "parser.add_argument('--num_epochs', type=int, default = 10)\n",
    "parser.add_argument('--epoch_decay_start', type=int, default = 6)\n",
    "parser.add_argument('--epsilon', type=float, default=2.5)\n",
    "parser.add_argument('--top_bn', type=bool, default=True)\n",
    "parser.add_argument('--method', default='vat')\n",
    "\n",
    "\n",
    "opt = parser.parse_args([])"
   ]
  },
  {
   "cell_type": "code",
   "execution_count": 4,
   "id": "a59b919b",
   "metadata": {},
   "outputs": [],
   "source": [
    "os.environ[\"CUDA_VISIBLE_DEVICES\"] = cuda_device"
   ]
  },
  {
   "cell_type": "code",
   "execution_count": 5,
   "id": "213e1be5",
   "metadata": {},
   "outputs": [],
   "source": [
    "def tocuda(x):\n",
    "    if opt.use_cuda:\n",
    "        return x.cuda()\n",
    "    return x\n",
    "\n",
    "\n",
    "def train(model, x, y, ul_x, optimizer):\n",
    "\n",
    "    ce = nn.CrossEntropyLoss()\n",
    "    y_pred = model(x)\n",
    "    ce_loss = ce(y_pred, y)\n",
    "\n",
    "    ul_y = model(ul_x)\n",
    "    v_loss = vat_loss(model, ul_x, ul_y, eps=opt.epsilon)\n",
    "    loss = v_loss + ce_loss\n",
    "    if opt.method == 'vatent':\n",
    "        loss += entropy_loss(ul_y)\n",
    "\n",
    "    optimizer.zero_grad()\n",
    "    loss.backward()\n",
    "    optimizer.step()\n",
    "\n",
    "    return v_loss, ce_loss\n",
    "\n",
    "\n",
    "def eval(model, x, y):\n",
    "\n",
    "    y_pred = model(x)\n",
    "    prob, idx = torch.max(y_pred, dim=1)\n",
    "    return torch.eq(idx, y).float().mean()\n",
    "\n",
    "\n",
    "def weights_init(m):\n",
    "    classname = m.__class__.__name__\n",
    "    if classname.find('Conv') != -1:\n",
    "        m.weight.data.normal_(0.0, 0.02)\n",
    "    elif classname.find('BatchNorm') != -1:\n",
    "        m.weight.data.normal_(1.0, 0.02)\n",
    "        m.bias.data.fill_(0)\n",
    "    elif classname.find('Linear') != -1:\n",
    "        m.bias.data.fill_(0)\n"
   ]
  },
  {
   "attachments": {},
   "cell_type": "markdown",
   "id": "8fe1763d",
   "metadata": {},
   "source": [
    "### **SVHN 데이터셋**"
   ]
  },
  {
   "attachments": {},
   "cell_type": "markdown",
   "id": "0c97c504",
   "metadata": {},
   "source": [
    "- epsilon : perturbation 크기를 조절하는 hyperparameter\n",
    "epsilon값을 조절해가며 실험을 진행해보도록 합니다."
   ]
  },
  {
   "cell_type": "code",
   "execution_count": 6,
   "id": "fc7c0117",
   "metadata": {},
   "outputs": [
    {
     "name": "stdout",
     "output_type": "stream",
     "text": [
      "Using downloaded and verified file: ./data/train_32x32.mat\n",
      "Using downloaded and verified file: ./data/test_32x32.mat\n"
     ]
    }
   ],
   "source": [
    "train_loader = torch.utils.data.DataLoader(\n",
    "    datasets.SVHN(root=opt.dataroot, split='train', download=True,transform=transforms.Compose([\n",
    "                        transforms.ToTensor(),\n",
    "                        transforms.Normalize((0.5, 0.5, 0.5), (0.5, 0.5, 0.5))\n",
    "                    ])),batch_size=batch_size, shuffle=True)\n",
    "\n",
    "test_loader = torch.utils.data.DataLoader(\n",
    "    datasets.SVHN(root=opt.dataroot, split='test', download=True,\n",
    "                    transform=transforms.Compose([\n",
    "                        transforms.ToTensor(),\n",
    "                        transforms.Normalize((0.5, 0.5, 0.5), (0.5, 0.5, 0.5))\n",
    "                    ])),batch_size=eval_batch_size, shuffle=True)"
   ]
  },
  {
   "cell_type": "code",
   "execution_count": 7,
   "id": "8183ebb9",
   "metadata": {},
   "outputs": [
    {
     "name": "stdout",
     "output_type": "stream",
     "text": [
      "Epoch : 0 Iter : 0 VAT Loss : tensor(0.5871, device='cuda:0') CE Loss : tensor(2.5504, device='cuda:0')\n",
      "Epoch : 0 Iter : 100 VAT Loss : tensor(0.0348, device='cuda:0') CE Loss : tensor(2.3783, device='cuda:0')\n",
      "Epoch : 0 Iter : 200 VAT Loss : tensor(0.0302, device='cuda:0') CE Loss : tensor(2.4403, device='cuda:0')\n",
      "Epoch : 0 Iter : 300 VAT Loss : tensor(0.0053, device='cuda:0') CE Loss : tensor(2.2790, device='cuda:0')\n",
      "Train accuracy : tensor(0.0625, device='cuda:0')\n",
      "Test accuracy : tensor(0.1800, device='cuda:0')\n",
      "Epoch : 1 Iter : 0 VAT Loss : tensor(0.0052, device='cuda:0') CE Loss : tensor(2.2748, device='cuda:0')\n",
      "Epoch : 1 Iter : 100 VAT Loss : tensor(0.0041, device='cuda:0') CE Loss : tensor(2.2572, device='cuda:0')\n",
      "Epoch : 1 Iter : 200 VAT Loss : tensor(0.0097, device='cuda:0') CE Loss : tensor(2.1768, device='cuda:0')\n",
      "Epoch : 1 Iter : 300 VAT Loss : tensor(0.0189, device='cuda:0') CE Loss : tensor(2.1789, device='cuda:0')\n",
      "Epoch : 2 Iter : 0 VAT Loss : tensor(0.0157, device='cuda:0') CE Loss : tensor(2.2348, device='cuda:0')\n",
      "Epoch : 2 Iter : 100 VAT Loss : tensor(0.0152, device='cuda:0') CE Loss : tensor(2.2253, device='cuda:0')\n",
      "Epoch : 2 Iter : 200 VAT Loss : tensor(0.0255, device='cuda:0') CE Loss : tensor(2.1684, device='cuda:0')\n",
      "Epoch : 2 Iter : 300 VAT Loss : tensor(0.0387, device='cuda:0') CE Loss : tensor(2.0791, device='cuda:0')\n",
      "Epoch : 3 Iter : 0 VAT Loss : tensor(0.0655, device='cuda:0') CE Loss : tensor(2.0179, device='cuda:0')\n",
      "Epoch : 3 Iter : 100 VAT Loss : tensor(0.0837, device='cuda:0') CE Loss : tensor(2.1558, device='cuda:0')\n",
      "Epoch : 3 Iter : 200 VAT Loss : tensor(0.0655, device='cuda:0') CE Loss : tensor(2.0907, device='cuda:0')\n",
      "Epoch : 3 Iter : 300 VAT Loss : tensor(0.0868, device='cuda:0') CE Loss : tensor(2.0865, device='cuda:0')\n",
      "Epoch : 4 Iter : 0 VAT Loss : tensor(0.2281, device='cuda:0') CE Loss : tensor(1.8972, device='cuda:0')\n",
      "Epoch : 4 Iter : 100 VAT Loss : tensor(0.2844, device='cuda:0') CE Loss : tensor(1.7748, device='cuda:0')\n",
      "Epoch : 4 Iter : 200 VAT Loss : tensor(0.3675, device='cuda:0') CE Loss : tensor(1.3675, device='cuda:0')\n",
      "Epoch : 4 Iter : 300 VAT Loss : tensor(0.4181, device='cuda:0') CE Loss : tensor(1.0169, device='cuda:0')\n",
      "Epoch : 5 Iter : 0 VAT Loss : tensor(0.3953, device='cuda:0') CE Loss : tensor(1.3712, device='cuda:0')\n",
      "Epoch : 5 Iter : 100 VAT Loss : tensor(0.4607, device='cuda:0') CE Loss : tensor(0.8599, device='cuda:0')\n",
      "Epoch : 5 Iter : 200 VAT Loss : tensor(0.4134, device='cuda:0') CE Loss : tensor(0.8824, device='cuda:0')\n",
      "Epoch : 5 Iter : 300 VAT Loss : tensor(0.4137, device='cuda:0') CE Loss : tensor(0.8871, device='cuda:0')\n",
      "Train accuracy : tensor(0.9375, device='cuda:0')\n",
      "Test accuracy : tensor(0.8000, device='cuda:0')\n",
      "Epoch : 6 Iter : 0 VAT Loss : tensor(0.4531, device='cuda:0') CE Loss : tensor(0.7687, device='cuda:0')\n",
      "Epoch : 6 Iter : 100 VAT Loss : tensor(0.4678, device='cuda:0') CE Loss : tensor(0.8392, device='cuda:0')\n",
      "Epoch : 6 Iter : 200 VAT Loss : tensor(0.4827, device='cuda:0') CE Loss : tensor(0.6477, device='cuda:0')\n",
      "Epoch : 6 Iter : 300 VAT Loss : tensor(0.5653, device='cuda:0') CE Loss : tensor(0.5938, device='cuda:0')\n",
      "Epoch : 7 Iter : 0 VAT Loss : tensor(0.4958, device='cuda:0') CE Loss : tensor(0.6713, device='cuda:0')\n",
      "Epoch : 7 Iter : 100 VAT Loss : tensor(0.5238, device='cuda:0') CE Loss : tensor(0.7266, device='cuda:0')\n",
      "Epoch : 7 Iter : 200 VAT Loss : tensor(0.4659, device='cuda:0') CE Loss : tensor(0.5241, device='cuda:0')\n",
      "Epoch : 7 Iter : 300 VAT Loss : tensor(0.4394, device='cuda:0') CE Loss : tensor(0.4018, device='cuda:0')\n",
      "Epoch : 8 Iter : 0 VAT Loss : tensor(0.5065, device='cuda:0') CE Loss : tensor(0.3567, device='cuda:0')\n",
      "Epoch : 8 Iter : 100 VAT Loss : tensor(0.4782, device='cuda:0') CE Loss : tensor(0.4509, device='cuda:0')\n",
      "Epoch : 8 Iter : 200 VAT Loss : tensor(0.4291, device='cuda:0') CE Loss : tensor(0.5012, device='cuda:0')\n",
      "Epoch : 8 Iter : 300 VAT Loss : tensor(0.4809, device='cuda:0') CE Loss : tensor(0.3730, device='cuda:0')\n",
      "Epoch : 9 Iter : 0 VAT Loss : tensor(0.4851, device='cuda:0') CE Loss : tensor(0.3529, device='cuda:0')\n",
      "Epoch : 9 Iter : 100 VAT Loss : tensor(0.4627, device='cuda:0') CE Loss : tensor(0.3011, device='cuda:0')\n",
      "Epoch : 9 Iter : 200 VAT Loss : tensor(0.4272, device='cuda:0') CE Loss : tensor(0.2851, device='cuda:0')\n",
      "Epoch : 9 Iter : 300 VAT Loss : tensor(0.4667, device='cuda:0') CE Loss : tensor(0.1631, device='cuda:0')\n",
      "Train accuracy : tensor(1., device='cuda:0')\n",
      "Test accuracy : tensor(0.8400, device='cuda:0')\n",
      "Full test accuracy : tensor(0.8770, device='cuda:0')\n"
     ]
    }
   ],
   "source": [
    "train_data = []\n",
    "train_target = []\n",
    "\n",
    "for (data, target) in train_loader:\n",
    "    train_data.append(data)\n",
    "    train_target.append(target)\n",
    "\n",
    "train_data = torch.cat(train_data, dim=0)\n",
    "train_target = torch.cat(train_target, dim=0)\n",
    "\n",
    "valid_data, train_data = train_data[:num_valid, ], train_data[num_valid:, ]\n",
    "valid_target, train_target = train_target[:num_valid], train_target[num_valid:, ]\n",
    "\n",
    "labeled_train, labeled_target = train_data[:num_labeled, ], train_target[:num_labeled, ]\n",
    "unlabeled_train = train_data[num_labeled:, ]\n",
    "\n",
    "model = tocuda(VAT(opt.top_bn))\n",
    "model.apply(weights_init)\n",
    "optimizer = optim.Adam(model.parameters(), lr=lr)\n",
    "\n",
    "train_vat_loss = []\n",
    "train_ce_loss = []\n",
    "train_epoch = []\n",
    "train_iter = []\n",
    "\n",
    "epoch_list = []\n",
    "train_acc = []\n",
    "test_acc = []\n",
    "\n",
    "# train the network\n",
    "for epoch in range(opt.num_epochs):\n",
    "\n",
    "    if epoch > opt.epoch_decay_start:\n",
    "        decayed_lr = (opt.num_epochs - epoch) * lr / (opt.num_epochs - opt.epoch_decay_start)\n",
    "        optimizer.lr = decayed_lr\n",
    "        optimizer.betas = (0.5, 0.999)\n",
    "\n",
    "    for i in range(num_iter_per_epoch):\n",
    "\n",
    "        batch_indices = torch.LongTensor(np.random.choice(labeled_train.size()[0], batch_size, replace=False))\n",
    "        x = labeled_train[batch_indices]\n",
    "        y = labeled_target[batch_indices]\n",
    "        batch_indices_unlabeled = torch.LongTensor(np.random.choice(unlabeled_train.size()[0], unlabeled_batch_size, replace=False))\n",
    "        ul_x = unlabeled_train[batch_indices_unlabeled]\n",
    "\n",
    "        v_loss, ce_loss = train(model.train(), Variable(tocuda(x)), Variable(tocuda(y)), Variable(tocuda(ul_x)),\n",
    "                                optimizer)\n",
    "\n",
    "        if i % 100 == 0:\n",
    "            print(\"Epoch :\", epoch, \"Iter :\", i, \"VAT Loss :\", v_loss.data, \"CE Loss :\", ce_loss.data)\n",
    "            train_epoch.append(epoch)\n",
    "            train_iter.append(i)\n",
    "            train_vat_loss.append(v_loss.data.item())\n",
    "            train_ce_loss.append(ce_loss.data.item())\n",
    "\n",
    "    if epoch % eval_freq == 0 or epoch + 1 == opt.num_epochs:\n",
    "        \n",
    "        epoch_list.append(epoch)\n",
    "\n",
    "        batch_indices = torch.LongTensor(np.random.choice(labeled_train.size()[0], batch_size, replace=False))\n",
    "        x = labeled_train[batch_indices]\n",
    "        y = labeled_target[batch_indices]\n",
    "        train_accuracy = eval(model.eval(), Variable(tocuda(x)), Variable(tocuda(y)))\n",
    "        print(\"Train accuracy :\", train_accuracy.data)\n",
    "        train_acc.append(train_accuracy.data.item())\n",
    "\n",
    "        for (data, target) in test_loader:\n",
    "            test_accuracy = eval(model.eval(), Variable(tocuda(data)), Variable(tocuda(target)))\n",
    "            print(\"Test accuracy :\", test_accuracy.data)\n",
    "            test_acc.append(test_accuracy.data.item())\n",
    "            break\n",
    "\n",
    "\n",
    "test_accuracy = 0.0\n",
    "counter = 0\n",
    "for (data, target) in test_loader:\n",
    "    n = data.size()[0]\n",
    "    acc = eval(model.eval(), Variable(tocuda(data)), Variable(tocuda(target)))\n",
    "    test_accuracy += n*acc\n",
    "    counter += n\n",
    "\n",
    "print(\"Full test accuracy :\", test_accuracy.data/counter)"
   ]
  },
  {
   "cell_type": "code",
   "execution_count": 8,
   "id": "ff43725b",
   "metadata": {},
   "outputs": [
    {
     "data": {
      "text/html": [
       "<div>\n",
       "<style scoped>\n",
       "    .dataframe tbody tr th:only-of-type {\n",
       "        vertical-align: middle;\n",
       "    }\n",
       "\n",
       "    .dataframe tbody tr th {\n",
       "        vertical-align: top;\n",
       "    }\n",
       "\n",
       "    .dataframe thead th {\n",
       "        text-align: right;\n",
       "    }\n",
       "</style>\n",
       "<table border=\"1\" class=\"dataframe\">\n",
       "  <thead>\n",
       "    <tr style=\"text-align: right;\">\n",
       "      <th></th>\n",
       "      <th>epoch</th>\n",
       "      <th>iteration</th>\n",
       "      <th>vat_loss</th>\n",
       "      <th>train_ce_loss</th>\n",
       "    </tr>\n",
       "  </thead>\n",
       "  <tbody>\n",
       "    <tr>\n",
       "      <th>0</th>\n",
       "      <td>0</td>\n",
       "      <td>0</td>\n",
       "      <td>0.587128</td>\n",
       "      <td>2.550450</td>\n",
       "    </tr>\n",
       "    <tr>\n",
       "      <th>1</th>\n",
       "      <td>0</td>\n",
       "      <td>100</td>\n",
       "      <td>0.034816</td>\n",
       "      <td>2.378329</td>\n",
       "    </tr>\n",
       "    <tr>\n",
       "      <th>2</th>\n",
       "      <td>0</td>\n",
       "      <td>200</td>\n",
       "      <td>0.030212</td>\n",
       "      <td>2.440304</td>\n",
       "    </tr>\n",
       "    <tr>\n",
       "      <th>3</th>\n",
       "      <td>0</td>\n",
       "      <td>300</td>\n",
       "      <td>0.005344</td>\n",
       "      <td>2.279044</td>\n",
       "    </tr>\n",
       "    <tr>\n",
       "      <th>4</th>\n",
       "      <td>1</td>\n",
       "      <td>0</td>\n",
       "      <td>0.005207</td>\n",
       "      <td>2.274825</td>\n",
       "    </tr>\n",
       "  </tbody>\n",
       "</table>\n",
       "</div>"
      ],
      "text/plain": [
       "   epoch  iteration  vat_loss  train_ce_loss\n",
       "0      0          0  0.587128       2.550450\n",
       "1      0        100  0.034816       2.378329\n",
       "2      0        200  0.030212       2.440304\n",
       "3      0        300  0.005344       2.279044\n",
       "4      1          0  0.005207       2.274825"
      ]
     },
     "execution_count": 8,
     "metadata": {},
     "output_type": "execute_result"
    }
   ],
   "source": [
    "train_loss_df = pd.DataFrame({'epoch': train_epoch, 'iteration': train_iter, 'vat_loss': train_vat_loss, 'train_ce_loss': train_ce_loss})\n",
    "train_loss_df.head()"
   ]
  },
  {
   "cell_type": "code",
   "execution_count": 9,
   "id": "dd32e0d0",
   "metadata": {},
   "outputs": [],
   "source": [
    "train_loss_df.round(4).to_csv('./result/svhn_2_5_loss.csv',index=False)"
   ]
  },
  {
   "cell_type": "code",
   "execution_count": 10,
   "id": "29b1e17f",
   "metadata": {},
   "outputs": [
    {
     "data": {
      "text/plain": [
       "<matplotlib.legend.Legend at 0x7f05478b28d0>"
      ]
     },
     "execution_count": 10,
     "metadata": {},
     "output_type": "execute_result"
    },
    {
     "data": {
      "image/png": "[encoded data removed]",
      "text/plain": [
       "<Figure size 864x288 with 1 Axes>"
      ]
     },
     "metadata": {
      "needs_background": "light"
     },
     "output_type": "display_data"
    }
   ],
   "source": [
    "plt.title('Loss plot : SVHN ', fontsize=20) \n",
    "p = sns.lineplot(data = train_loss_df, x = train_loss_df.index, y = 'vat_loss', color= 'r')\n",
    "p = sns.lineplot(data = train_loss_df, x = train_loss_df.index, y = 'train_ce_loss', color = 'b')\n",
    "p.set_ylabel('loss', fontsize = 12)\n",
    "plt.legend(labels=[\"VAT loss\",\"CE loss\"])"
   ]
  },
  {
   "cell_type": "code",
   "execution_count": 11,
   "id": "cf4ce0b7",
   "metadata": {},
   "outputs": [
    {
     "data": {
      "text/html": [
       "<div>\n",
       "<style scoped>\n",
       "    .dataframe tbody tr th:only-of-type {\n",
       "        vertical-align: middle;\n",
       "    }\n",
       "\n",
       "    .dataframe tbody tr th {\n",
       "        vertical-align: top;\n",
       "    }\n",
       "\n",
       "    .dataframe thead th {\n",
       "        text-align: right;\n",
       "    }\n",
       "</style>\n",
       "<table border=\"1\" class=\"dataframe\">\n",
       "  <thead>\n",
       "    <tr style=\"text-align: right;\">\n",
       "      <th></th>\n",
       "      <th>epoch</th>\n",
       "      <th>train_acc</th>\n",
       "      <th>test_acc</th>\n",
       "    </tr>\n",
       "  </thead>\n",
       "  <tbody>\n",
       "    <tr>\n",
       "      <th>0</th>\n",
       "      <td>0</td>\n",
       "      <td>0.0625</td>\n",
       "      <td>0.18</td>\n",
       "    </tr>\n",
       "    <tr>\n",
       "      <th>1</th>\n",
       "      <td>5</td>\n",
       "      <td>0.9375</td>\n",
       "      <td>0.80</td>\n",
       "    </tr>\n",
       "    <tr>\n",
       "      <th>2</th>\n",
       "      <td>9</td>\n",
       "      <td>1.0000</td>\n",
       "      <td>0.84</td>\n",
       "    </tr>\n",
       "  </tbody>\n",
       "</table>\n",
       "</div>"
      ],
      "text/plain": [
       "   epoch  train_acc  test_acc\n",
       "0      0     0.0625      0.18\n",
       "1      5     0.9375      0.80\n",
       "2      9     1.0000      0.84"
      ]
     },
     "execution_count": 11,
     "metadata": {},
     "output_type": "execute_result"
    }
   ],
   "source": [
    "loss_df = pd.DataFrame({'epoch' : epoch_list, 'train_acc' : train_acc, 'test_acc' : test_acc})\n",
    "loss_df.head()"
   ]
  },
  {
   "cell_type": "code",
   "execution_count": 12,
   "id": "2166dcd4",
   "metadata": {},
   "outputs": [],
   "source": [
    "loss_df.round(4).to_csv('./result/svhn_2_5_acc.csv',index=False)"
   ]
  },
  {
   "cell_type": "code",
   "execution_count": 13,
   "id": "e6c9270f",
   "metadata": {},
   "outputs": [
    {
     "data": {
      "text/plain": [
       "<matplotlib.legend.Legend at 0x7f0544018048>"
      ]
     },
     "execution_count": 13,
     "metadata": {},
     "output_type": "execute_result"
    },
    {
     "data": {
      "image/png": "[encoded data removed]",
      "text/plain": [
       "<Figure size 864x288 with 1 Axes>"
      ]
     },
     "metadata": {
      "needs_background": "light"
     },
     "output_type": "display_data"
    }
   ],
   "source": [
    "p = sns.lineplot(data = loss_df, x = 'epoch', y = 'train_acc', color= 'r')\n",
    "p = sns.lineplot(data = loss_df, x = 'epoch', y = 'test_acc', color = 'b')\n",
    "p.set_ylabel('accuracy', fontsize = 12)\n",
    "plt.legend(labels=[\"Train accuracy\",\"Test accuracy\"])"
   ]
  },
  {
   "attachments": {},
   "cell_type": "markdown",
   "id": "815893d9",
   "metadata": {},
   "source": [
    "- epsilon = 2"
   ]
  },
  {
   "cell_type": "code",
   "execution_count": 14,
   "id": "ceb5bb36",
   "metadata": {},
   "outputs": [],
   "source": [
    "parser = argparse.ArgumentParser()\n",
    "\n",
    "parser.add_argument('--dataset', default = 'svhn',  help='cifar10 | svhn')\n",
    "parser.add_argument('--dataroot', default = './data',  help='path to dataset')\n",
    "parser.add_argument('--use_cuda', type=bool, default=True)\n",
    "parser.add_argument('--num_epochs', type=int, default = 10)\n",
    "parser.add_argument('--epoch_decay_start', type=int, default = 6)\n",
    "parser.add_argument('--epsilon', type=float, default=2)\n",
    "parser.add_argument('--top_bn', type=bool, default=True)\n",
    "parser.add_argument('--method', default='vat')\n",
    "\n",
    "\n",
    "opt = parser.parse_args([])"
   ]
  },
  {
   "cell_type": "code",
   "execution_count": 15,
   "id": "5da3fead",
   "metadata": {},
   "outputs": [
    {
     "name": "stdout",
     "output_type": "stream",
     "text": [
      "Epoch : 0 Iter : 0 VAT Loss : tensor(0.7209, device='cuda:0') CE Loss : tensor(3.0919, device='cuda:0')\n",
      "Epoch : 0 Iter : 100 VAT Loss : tensor(0.0062, device='cuda:0') CE Loss : tensor(2.2703, device='cuda:0')\n",
      "Epoch : 0 Iter : 200 VAT Loss : tensor(0.0034, device='cuda:0') CE Loss : tensor(2.2382, device='cuda:0')\n",
      "Epoch : 0 Iter : 300 VAT Loss : tensor(0.0076, device='cuda:0') CE Loss : tensor(2.2392, device='cuda:0')\n",
      "Train accuracy : tensor(0.1250, device='cuda:0')\n",
      "Test accuracy : tensor(0.2100, device='cuda:0')\n",
      "Epoch : 1 Iter : 0 VAT Loss : tensor(0.0084, device='cuda:0') CE Loss : tensor(2.2650, device='cuda:0')\n",
      "Epoch : 1 Iter : 100 VAT Loss : tensor(0.0125, device='cuda:0') CE Loss : tensor(2.2764, device='cuda:0')\n",
      "Epoch : 1 Iter : 200 VAT Loss : tensor(0.0117, device='cuda:0') CE Loss : tensor(2.2149, device='cuda:0')\n",
      "Epoch : 1 Iter : 300 VAT Loss : tensor(0.0193, device='cuda:0') CE Loss : tensor(2.2505, device='cuda:0')\n",
      "Epoch : 2 Iter : 0 VAT Loss : tensor(0.0222, device='cuda:0') CE Loss : tensor(2.1857, device='cuda:0')\n",
      "Epoch : 2 Iter : 100 VAT Loss : tensor(0.0400, device='cuda:0') CE Loss : tensor(2.3853, device='cuda:0')\n",
      "Epoch : 2 Iter : 200 VAT Loss : tensor(0.0613, device='cuda:0') CE Loss : tensor(2.0737, device='cuda:0')\n",
      "Epoch : 2 Iter : 300 VAT Loss : tensor(0.0774, device='cuda:0') CE Loss : tensor(2.1569, device='cuda:0')\n",
      "Epoch : 3 Iter : 0 VAT Loss : tensor(0.0986, device='cuda:0') CE Loss : tensor(1.8830, device='cuda:0')\n",
      "Epoch : 3 Iter : 100 VAT Loss : tensor(0.1527, device='cuda:0') CE Loss : tensor(1.7239, device='cuda:0')\n",
      "Epoch : 3 Iter : 200 VAT Loss : tensor(0.2861, device='cuda:0') CE Loss : tensor(1.8794, device='cuda:0')\n",
      "Epoch : 3 Iter : 300 VAT Loss : tensor(0.3149, device='cuda:0') CE Loss : tensor(1.6005, device='cuda:0')\n",
      "Epoch : 4 Iter : 0 VAT Loss : tensor(0.3374, device='cuda:0') CE Loss : tensor(1.3491, device='cuda:0')\n",
      "Epoch : 4 Iter : 100 VAT Loss : tensor(0.4288, device='cuda:0') CE Loss : tensor(1.1073, device='cuda:0')\n",
      "Epoch : 4 Iter : 200 VAT Loss : tensor(0.3750, device='cuda:0') CE Loss : tensor(0.8788, device='cuda:0')\n",
      "Epoch : 4 Iter : 300 VAT Loss : tensor(0.3768, device='cuda:0') CE Loss : tensor(1.0778, device='cuda:0')\n",
      "Epoch : 5 Iter : 0 VAT Loss : tensor(0.4548, device='cuda:0') CE Loss : tensor(0.7874, device='cuda:0')\n",
      "Epoch : 5 Iter : 100 VAT Loss : tensor(0.4276, device='cuda:0') CE Loss : tensor(0.6902, device='cuda:0')\n",
      "Epoch : 5 Iter : 200 VAT Loss : tensor(0.3389, device='cuda:0') CE Loss : tensor(0.5507, device='cuda:0')\n",
      "Epoch : 5 Iter : 300 VAT Loss : tensor(0.4410, device='cuda:0') CE Loss : tensor(0.6624, device='cuda:0')\n",
      "Train accuracy : tensor(0.9688, device='cuda:0')\n",
      "Test accuracy : tensor(0.8900, device='cuda:0')\n",
      "Epoch : 6 Iter : 0 VAT Loss : tensor(0.4777, device='cuda:0') CE Loss : tensor(0.6199, device='cuda:0')\n",
      "Epoch : 6 Iter : 100 VAT Loss : tensor(0.4372, device='cuda:0') CE Loss : tensor(0.5313, device='cuda:0')\n",
      "Epoch : 6 Iter : 200 VAT Loss : tensor(0.4476, device='cuda:0') CE Loss : tensor(0.5053, device='cuda:0')\n",
      "Epoch : 6 Iter : 300 VAT Loss : tensor(0.4159, device='cuda:0') CE Loss : tensor(0.4952, device='cuda:0')\n",
      "Epoch : 7 Iter : 0 VAT Loss : tensor(0.4114, device='cuda:0') CE Loss : tensor(0.4004, device='cuda:0')\n",
      "Epoch : 7 Iter : 100 VAT Loss : tensor(0.4480, device='cuda:0') CE Loss : tensor(0.5304, device='cuda:0')\n",
      "Epoch : 7 Iter : 200 VAT Loss : tensor(0.4122, device='cuda:0') CE Loss : tensor(0.3847, device='cuda:0')\n",
      "Epoch : 7 Iter : 300 VAT Loss : tensor(0.4142, device='cuda:0') CE Loss : tensor(0.2992, device='cuda:0')\n",
      "Epoch : 8 Iter : 0 VAT Loss : tensor(0.4394, device='cuda:0') CE Loss : tensor(0.3837, device='cuda:0')\n",
      "Epoch : 8 Iter : 100 VAT Loss : tensor(0.4981, device='cuda:0') CE Loss : tensor(0.3352, device='cuda:0')\n",
      "Epoch : 8 Iter : 200 VAT Loss : tensor(0.4301, device='cuda:0') CE Loss : tensor(0.4159, device='cuda:0')\n",
      "Epoch : 8 Iter : 300 VAT Loss : tensor(0.3815, device='cuda:0') CE Loss : tensor(0.4084, device='cuda:0')\n",
      "Epoch : 9 Iter : 0 VAT Loss : tensor(0.3454, device='cuda:0') CE Loss : tensor(0.2923, device='cuda:0')\n",
      "Epoch : 9 Iter : 100 VAT Loss : tensor(0.3695, device='cuda:0') CE Loss : tensor(0.3586, device='cuda:0')\n",
      "Epoch : 9 Iter : 200 VAT Loss : tensor(0.4680, device='cuda:0') CE Loss : tensor(0.3222, device='cuda:0')\n",
      "Epoch : 9 Iter : 300 VAT Loss : tensor(0.4126, device='cuda:0') CE Loss : tensor(0.2262, device='cuda:0')\n",
      "Train accuracy : tensor(1., device='cuda:0')\n",
      "Test accuracy : tensor(0.8900, device='cuda:0')\n",
      "Full test accuracy : tensor(0.8635, device='cuda:0')\n"
     ]
    }
   ],
   "source": [
    "train_data = []\n",
    "train_target = []\n",
    "\n",
    "for (data, target) in train_loader:\n",
    "    train_data.append(data)\n",
    "    train_target.append(target)\n",
    "\n",
    "train_data = torch.cat(train_data, dim=0)\n",
    "train_target = torch.cat(train_target, dim=0)\n",
    "\n",
    "valid_data, train_data = train_data[:num_valid, ], train_data[num_valid:, ]\n",
    "valid_target, train_target = train_target[:num_valid], train_target[num_valid:, ]\n",
    "\n",
    "labeled_train, labeled_target = train_data[:num_labeled, ], train_target[:num_labeled, ]\n",
    "unlabeled_train = train_data[num_labeled:, ]\n",
    "\n",
    "model = tocuda(VAT(opt.top_bn))\n",
    "model.apply(weights_init)\n",
    "optimizer = optim.Adam(model.parameters(), lr=lr)\n",
    "\n",
    "train_vat_loss = []\n",
    "train_ce_loss = []\n",
    "train_epoch = []\n",
    "train_iter = []\n",
    "\n",
    "epoch_list = []\n",
    "train_acc = []\n",
    "test_acc = []\n",
    "\n",
    "# train the network\n",
    "for epoch in range(opt.num_epochs):\n",
    "\n",
    "    if epoch > opt.epoch_decay_start:\n",
    "        decayed_lr = (opt.num_epochs - epoch) * lr / (opt.num_epochs - opt.epoch_decay_start)\n",
    "        optimizer.lr = decayed_lr\n",
    "        optimizer.betas = (0.5, 0.999)\n",
    "\n",
    "    for i in range(num_iter_per_epoch):\n",
    "\n",
    "        batch_indices = torch.LongTensor(np.random.choice(labeled_train.size()[0], batch_size, replace=False))\n",
    "        x = labeled_train[batch_indices]\n",
    "        y = labeled_target[batch_indices]\n",
    "        batch_indices_unlabeled = torch.LongTensor(np.random.choice(unlabeled_train.size()[0], unlabeled_batch_size, replace=False))\n",
    "        ul_x = unlabeled_train[batch_indices_unlabeled]\n",
    "\n",
    "        v_loss, ce_loss = train(model.train(), Variable(tocuda(x)), Variable(tocuda(y)), Variable(tocuda(ul_x)),\n",
    "                                optimizer)\n",
    "\n",
    "        if i % 100 == 0:\n",
    "            print(\"Epoch :\", epoch, \"Iter :\", i, \"VAT Loss :\", v_loss.data, \"CE Loss :\", ce_loss.data)\n",
    "            train_epoch.append(epoch)\n",
    "            train_iter.append(i)\n",
    "            train_vat_loss.append(v_loss.data.item())\n",
    "            train_ce_loss.append(ce_loss.data.item())\n",
    "\n",
    "    if epoch % eval_freq == 0 or epoch + 1 == opt.num_epochs:\n",
    "        \n",
    "        epoch_list.append(epoch)\n",
    "\n",
    "        batch_indices = torch.LongTensor(np.random.choice(labeled_train.size()[0], batch_size, replace=False))\n",
    "        x = labeled_train[batch_indices]\n",
    "        y = labeled_target[batch_indices]\n",
    "        train_accuracy = eval(model.eval(), Variable(tocuda(x)), Variable(tocuda(y)))\n",
    "        print(\"Train accuracy :\", train_accuracy.data)\n",
    "        train_acc.append(train_accuracy.data.item())\n",
    "\n",
    "        for (data, target) in test_loader:\n",
    "            test_accuracy = eval(model.eval(), Variable(tocuda(data)), Variable(tocuda(target)))\n",
    "            print(\"Test accuracy :\", test_accuracy.data)\n",
    "            test_acc.append(test_accuracy.data.item())\n",
    "            break\n",
    "\n",
    "\n",
    "test_accuracy = 0.0\n",
    "counter = 0\n",
    "for (data, target) in test_loader:\n",
    "    n = data.size()[0]\n",
    "    acc = eval(model.eval(), Variable(tocuda(data)), Variable(tocuda(target)))\n",
    "    test_accuracy += n*acc\n",
    "    counter += n\n",
    "\n",
    "print(\"Full test accuracy :\", test_accuracy.data/counter)"
   ]
  },
  {
   "cell_type": "code",
   "execution_count": 16,
   "id": "7c3f504d",
   "metadata": {},
   "outputs": [
    {
     "data": {
      "text/html": [
       "<div>\n",
       "<style scoped>\n",
       "    .dataframe tbody tr th:only-of-type {\n",
       "        vertical-align: middle;\n",
       "    }\n",
       "\n",
       "    .dataframe tbody tr th {\n",
       "        vertical-align: top;\n",
       "    }\n",
       "\n",
       "    .dataframe thead th {\n",
       "        text-align: right;\n",
       "    }\n",
       "</style>\n",
       "<table border=\"1\" class=\"dataframe\">\n",
       "  <thead>\n",
       "    <tr style=\"text-align: right;\">\n",
       "      <th></th>\n",
       "      <th>epoch</th>\n",
       "      <th>iteration</th>\n",
       "      <th>vat_loss</th>\n",
       "      <th>train_ce_loss</th>\n",
       "    </tr>\n",
       "  </thead>\n",
       "  <tbody>\n",
       "    <tr>\n",
       "      <th>0</th>\n",
       "      <td>0</td>\n",
       "      <td>0</td>\n",
       "      <td>0.720855</td>\n",
       "      <td>3.091871</td>\n",
       "    </tr>\n",
       "    <tr>\n",
       "      <th>1</th>\n",
       "      <td>0</td>\n",
       "      <td>100</td>\n",
       "      <td>0.006155</td>\n",
       "      <td>2.270272</td>\n",
       "    </tr>\n",
       "    <tr>\n",
       "      <th>2</th>\n",
       "      <td>0</td>\n",
       "      <td>200</td>\n",
       "      <td>0.003376</td>\n",
       "      <td>2.238249</td>\n",
       "    </tr>\n",
       "    <tr>\n",
       "      <th>3</th>\n",
       "      <td>0</td>\n",
       "      <td>300</td>\n",
       "      <td>0.007574</td>\n",
       "      <td>2.239206</td>\n",
       "    </tr>\n",
       "    <tr>\n",
       "      <th>4</th>\n",
       "      <td>1</td>\n",
       "      <td>0</td>\n",
       "      <td>0.008372</td>\n",
       "      <td>2.264990</td>\n",
       "    </tr>\n",
       "  </tbody>\n",
       "</table>\n",
       "</div>"
      ],
      "text/plain": [
       "   epoch  iteration  vat_loss  train_ce_loss\n",
       "0      0          0  0.720855       3.091871\n",
       "1      0        100  0.006155       2.270272\n",
       "2      0        200  0.003376       2.238249\n",
       "3      0        300  0.007574       2.239206\n",
       "4      1          0  0.008372       2.264990"
      ]
     },
     "execution_count": 16,
     "metadata": {},
     "output_type": "execute_result"
    }
   ],
   "source": [
    "train_loss_df = pd.DataFrame({'epoch': train_epoch, 'iteration': train_iter, 'vat_loss': train_vat_loss, 'train_ce_loss': train_ce_loss})\n",
    "train_loss_df.round(4).to_csv('./result/svhn_2_loss.csv',index=False)\n",
    "train_loss_df.head()"
   ]
  },
  {
   "cell_type": "code",
   "execution_count": 17,
   "id": "2c3019c5",
   "metadata": {},
   "outputs": [
    {
     "data": {
      "text/html": [
       "<div>\n",
       "<style scoped>\n",
       "    .dataframe tbody tr th:only-of-type {\n",
       "        vertical-align: middle;\n",
       "    }\n",
       "\n",
       "    .dataframe tbody tr th {\n",
       "        vertical-align: top;\n",
       "    }\n",
       "\n",
       "    .dataframe thead th {\n",
       "        text-align: right;\n",
       "    }\n",
       "</style>\n",
       "<table border=\"1\" class=\"dataframe\">\n",
       "  <thead>\n",
       "    <tr style=\"text-align: right;\">\n",
       "      <th></th>\n",
       "      <th>epoch</th>\n",
       "      <th>train_acc</th>\n",
       "      <th>test_acc</th>\n",
       "    </tr>\n",
       "  </thead>\n",
       "  <tbody>\n",
       "    <tr>\n",
       "      <th>0</th>\n",
       "      <td>0</td>\n",
       "      <td>0.12500</td>\n",
       "      <td>0.21</td>\n",
       "    </tr>\n",
       "    <tr>\n",
       "      <th>1</th>\n",
       "      <td>5</td>\n",
       "      <td>0.96875</td>\n",
       "      <td>0.89</td>\n",
       "    </tr>\n",
       "    <tr>\n",
       "      <th>2</th>\n",
       "      <td>9</td>\n",
       "      <td>1.00000</td>\n",
       "      <td>0.89</td>\n",
       "    </tr>\n",
       "  </tbody>\n",
       "</table>\n",
       "</div>"
      ],
      "text/plain": [
       "   epoch  train_acc  test_acc\n",
       "0      0    0.12500      0.21\n",
       "1      5    0.96875      0.89\n",
       "2      9    1.00000      0.89"
      ]
     },
     "execution_count": 17,
     "metadata": {},
     "output_type": "execute_result"
    }
   ],
   "source": [
    "loss_df = pd.DataFrame({'epoch' : epoch_list, 'train_acc' : train_acc, 'test_acc' : test_acc})\n",
    "loss_df.round(4).to_csv('./result/svhn_2_acc.csv',index=False)\n",
    "loss_df.head()"
   ]
  },
  {
   "cell_type": "code",
   "execution_count": 18,
   "id": "107ce34a",
   "metadata": {},
   "outputs": [
    {
     "data": {
      "text/plain": [
       "<matplotlib.legend.Legend at 0x7f054791e7f0>"
      ]
     },
     "execution_count": 18,
     "metadata": {},
     "output_type": "execute_result"
    },
    {
     "data": {
      "image/png": "[encoded data removed]",
      "text/plain": [
       "<Figure size 864x288 with 1 Axes>"
      ]
     },
     "metadata": {
      "needs_background": "light"
     },
     "output_type": "display_data"
    }
   ],
   "source": [
    "plt.title('Loss plot : SVHN ', fontsize=20)\n",
    "p = sns.lineplot(data = train_loss_df, x = train_loss_df.index, y = 'vat_loss', color= 'r')\n",
    "p = sns.lineplot(data = train_loss_df, x = train_loss_df.index, y = 'train_ce_loss', color = 'b')\n",
    "p.set_ylabel('loss', fontsize = 12)\n",
    "plt.legend(labels=[\"VAT loss\",\"CE loss\"])"
   ]
  },
  {
   "cell_type": "code",
   "execution_count": 19,
   "id": "065637b7",
   "metadata": {},
   "outputs": [
    {
     "data": {
      "text/plain": [
       "<matplotlib.legend.Legend at 0x7f053c701518>"
      ]
     },
     "execution_count": 19,
     "metadata": {},
     "output_type": "execute_result"
    },
    {
     "data": {
      "image/png": "[encoded data removed]",
      "text/plain": [
       "<Figure size 864x288 with 1 Axes>"
      ]
     },
     "metadata": {
      "needs_background": "light"
     },
     "output_type": "display_data"
    }
   ],
   "source": [
    "p = sns.lineplot(data = loss_df, x = 'epoch', y = 'train_acc', color= 'r')\n",
    "p = sns.lineplot(data = loss_df, x = 'epoch', y = 'test_acc', color = 'b')\n",
    "p.set_ylabel('accuracy', fontsize = 12)\n",
    "plt.legend(labels=[\"Train accuracy\",\"Test accuracy\"])"
   ]
  },
  {
   "attachments": {},
   "cell_type": "markdown",
   "id": "b2a2a090",
   "metadata": {},
   "source": [
    "- epsilon = 3"
   ]
  },
  {
   "cell_type": "code",
   "execution_count": 20,
   "id": "a47a5c91",
   "metadata": {},
   "outputs": [],
   "source": [
    "parser = argparse.ArgumentParser()\n",
    "\n",
    "parser.add_argument('--dataset', default = 'svhn',  help='cifar10 | svhn')\n",
    "parser.add_argument('--dataroot', default = './data',  help='path to dataset')\n",
    "parser.add_argument('--use_cuda', type=bool, default=True)\n",
    "parser.add_argument('--num_epochs', type=int, default = 10)\n",
    "parser.add_argument('--epoch_decay_start', type=int, default = 6)\n",
    "parser.add_argument('--epsilon', type=float, default=3)\n",
    "parser.add_argument('--top_bn', type=bool, default=True)\n",
    "parser.add_argument('--method', default='vat')\n",
    "\n",
    "\n",
    "opt = parser.parse_args([])"
   ]
  },
  {
   "cell_type": "code",
   "execution_count": 21,
   "id": "e4e7c943",
   "metadata": {},
   "outputs": [
    {
     "name": "stdout",
     "output_type": "stream",
     "text": [
      "Epoch : 0 Iter : 0 VAT Loss : tensor(0.6634, device='cuda:0') CE Loss : tensor(2.8780, device='cuda:0')\n",
      "Epoch : 0 Iter : 100 VAT Loss : tensor(0.0519, device='cuda:0') CE Loss : tensor(2.8300, device='cuda:0')\n",
      "Epoch : 0 Iter : 200 VAT Loss : tensor(0.0030, device='cuda:0') CE Loss : tensor(2.2872, device='cuda:0')\n",
      "Epoch : 0 Iter : 300 VAT Loss : tensor(0.0047, device='cuda:0') CE Loss : tensor(2.2624, device='cuda:0')\n",
      "Train accuracy : tensor(0.2500, device='cuda:0')\n",
      "Test accuracy : tensor(0.1900, device='cuda:0')\n",
      "Epoch : 1 Iter : 0 VAT Loss : tensor(0.0037, device='cuda:0') CE Loss : tensor(2.2771, device='cuda:0')\n",
      "Epoch : 1 Iter : 100 VAT Loss : tensor(0.0046, device='cuda:0') CE Loss : tensor(2.2523, device='cuda:0')\n",
      "Epoch : 1 Iter : 200 VAT Loss : tensor(0.0047, device='cuda:0') CE Loss : tensor(2.3109, device='cuda:0')\n",
      "Epoch : 1 Iter : 300 VAT Loss : tensor(0.0051, device='cuda:0') CE Loss : tensor(2.2066, device='cuda:0')\n",
      "Epoch : 2 Iter : 0 VAT Loss : tensor(0.0074, device='cuda:0') CE Loss : tensor(2.2596, device='cuda:0')\n",
      "Epoch : 2 Iter : 100 VAT Loss : tensor(0.0052, device='cuda:0') CE Loss : tensor(2.3400, device='cuda:0')\n",
      "Epoch : 2 Iter : 200 VAT Loss : tensor(0.0132, device='cuda:0') CE Loss : tensor(2.1949, device='cuda:0')\n",
      "Epoch : 2 Iter : 300 VAT Loss : tensor(0.0081, device='cuda:0') CE Loss : tensor(2.2645, device='cuda:0')\n",
      "Epoch : 3 Iter : 0 VAT Loss : tensor(0.0081, device='cuda:0') CE Loss : tensor(2.3168, device='cuda:0')\n",
      "Epoch : 3 Iter : 100 VAT Loss : tensor(0.0183, device='cuda:0') CE Loss : tensor(2.2638, device='cuda:0')\n",
      "Epoch : 3 Iter : 200 VAT Loss : tensor(0.0283, device='cuda:0') CE Loss : tensor(2.1846, device='cuda:0')\n",
      "Epoch : 3 Iter : 300 VAT Loss : tensor(0.0367, device='cuda:0') CE Loss : tensor(2.2060, device='cuda:0')\n",
      "Epoch : 4 Iter : 0 VAT Loss : tensor(0.0730, device='cuda:0') CE Loss : tensor(2.0431, device='cuda:0')\n",
      "Epoch : 4 Iter : 100 VAT Loss : tensor(0.1347, device='cuda:0') CE Loss : tensor(2.1251, device='cuda:0')\n",
      "Epoch : 4 Iter : 200 VAT Loss : tensor(0.1112, device='cuda:0') CE Loss : tensor(1.9531, device='cuda:0')\n",
      "Epoch : 4 Iter : 300 VAT Loss : tensor(0.1744, device='cuda:0') CE Loss : tensor(1.9920, device='cuda:0')\n",
      "Epoch : 5 Iter : 0 VAT Loss : tensor(0.1958, device='cuda:0') CE Loss : tensor(1.6411, device='cuda:0')\n",
      "Epoch : 5 Iter : 100 VAT Loss : tensor(0.3231, device='cuda:0') CE Loss : tensor(1.5978, device='cuda:0')\n",
      "Epoch : 5 Iter : 200 VAT Loss : tensor(0.3444, device='cuda:0') CE Loss : tensor(1.5444, device='cuda:0')\n",
      "Epoch : 5 Iter : 300 VAT Loss : tensor(0.3873, device='cuda:0') CE Loss : tensor(1.2998, device='cuda:0')\n",
      "Train accuracy : tensor(0.7812, device='cuda:0')\n",
      "Test accuracy : tensor(0.7500, device='cuda:0')\n",
      "Epoch : 6 Iter : 0 VAT Loss : tensor(0.3991, device='cuda:0') CE Loss : tensor(1.1872, device='cuda:0')\n",
      "Epoch : 6 Iter : 100 VAT Loss : tensor(0.4573, device='cuda:0') CE Loss : tensor(0.9014, device='cuda:0')\n",
      "Epoch : 6 Iter : 200 VAT Loss : tensor(0.4822, device='cuda:0') CE Loss : tensor(1.2204, device='cuda:0')\n",
      "Epoch : 6 Iter : 300 VAT Loss : tensor(0.4344, device='cuda:0') CE Loss : tensor(0.7445, device='cuda:0')\n",
      "Epoch : 7 Iter : 0 VAT Loss : tensor(0.4614, device='cuda:0') CE Loss : tensor(0.7660, device='cuda:0')\n",
      "Epoch : 7 Iter : 100 VAT Loss : tensor(0.4633, device='cuda:0') CE Loss : tensor(0.8932, device='cuda:0')\n",
      "Epoch : 7 Iter : 200 VAT Loss : tensor(0.5736, device='cuda:0') CE Loss : tensor(0.5808, device='cuda:0')\n",
      "Epoch : 7 Iter : 300 VAT Loss : tensor(0.4132, device='cuda:0') CE Loss : tensor(0.5128, device='cuda:0')\n",
      "Epoch : 8 Iter : 0 VAT Loss : tensor(0.4475, device='cuda:0') CE Loss : tensor(0.6856, device='cuda:0')\n",
      "Epoch : 8 Iter : 100 VAT Loss : tensor(0.4676, device='cuda:0') CE Loss : tensor(0.5664, device='cuda:0')\n",
      "Epoch : 8 Iter : 200 VAT Loss : tensor(0.4534, device='cuda:0') CE Loss : tensor(0.5965, device='cuda:0')\n",
      "Epoch : 8 Iter : 300 VAT Loss : tensor(0.5064, device='cuda:0') CE Loss : tensor(0.5535, device='cuda:0')\n",
      "Epoch : 9 Iter : 0 VAT Loss : tensor(0.5028, device='cuda:0') CE Loss : tensor(0.3411, device='cuda:0')\n",
      "Epoch : 9 Iter : 100 VAT Loss : tensor(0.5221, device='cuda:0') CE Loss : tensor(0.3552, device='cuda:0')\n",
      "Epoch : 9 Iter : 200 VAT Loss : tensor(0.5257, device='cuda:0') CE Loss : tensor(0.2383, device='cuda:0')\n",
      "Epoch : 9 Iter : 300 VAT Loss : tensor(0.5230, device='cuda:0') CE Loss : tensor(0.4085, device='cuda:0')\n",
      "Train accuracy : tensor(1., device='cuda:0')\n",
      "Test accuracy : tensor(0.9000, device='cuda:0')\n",
      "Full test accuracy : tensor(0.8883, device='cuda:0')\n"
     ]
    }
   ],
   "source": [
    "train_data = []\n",
    "train_target = []\n",
    "\n",
    "for (data, target) in train_loader:\n",
    "    train_data.append(data)\n",
    "    train_target.append(target)\n",
    "\n",
    "train_data = torch.cat(train_data, dim=0)\n",
    "train_target = torch.cat(train_target, dim=0)\n",
    "\n",
    "valid_data, train_data = train_data[:num_valid, ], train_data[num_valid:, ]\n",
    "valid_target, train_target = train_target[:num_valid], train_target[num_valid:, ]\n",
    "\n",
    "labeled_train, labeled_target = train_data[:num_labeled, ], train_target[:num_labeled, ]\n",
    "unlabeled_train = train_data[num_labeled:, ]\n",
    "\n",
    "model = tocuda(VAT(opt.top_bn))\n",
    "model.apply(weights_init)\n",
    "optimizer = optim.Adam(model.parameters(), lr=lr)\n",
    "\n",
    "train_vat_loss = []\n",
    "train_ce_loss = []\n",
    "train_epoch = []\n",
    "train_iter = []\n",
    "\n",
    "epoch_list = []\n",
    "train_acc = []\n",
    "test_acc = []\n",
    "\n",
    "# train the network\n",
    "for epoch in range(opt.num_epochs):\n",
    "\n",
    "    if epoch > opt.epoch_decay_start:\n",
    "        decayed_lr = (opt.num_epochs - epoch) * lr / (opt.num_epochs - opt.epoch_decay_start)\n",
    "        optimizer.lr = decayed_lr\n",
    "        optimizer.betas = (0.5, 0.999)\n",
    "\n",
    "    for i in range(num_iter_per_epoch):\n",
    "\n",
    "        batch_indices = torch.LongTensor(np.random.choice(labeled_train.size()[0], batch_size, replace=False))\n",
    "        x = labeled_train[batch_indices]\n",
    "        y = labeled_target[batch_indices]\n",
    "        batch_indices_unlabeled = torch.LongTensor(np.random.choice(unlabeled_train.size()[0], unlabeled_batch_size, replace=False))\n",
    "        ul_x = unlabeled_train[batch_indices_unlabeled]\n",
    "\n",
    "        v_loss, ce_loss = train(model.train(), Variable(tocuda(x)), Variable(tocuda(y)), Variable(tocuda(ul_x)),\n",
    "                                optimizer)\n",
    "\n",
    "        if i % 100 == 0:\n",
    "            print(\"Epoch :\", epoch, \"Iter :\", i, \"VAT Loss :\", v_loss.data, \"CE Loss :\", ce_loss.data)\n",
    "            train_epoch.append(epoch)\n",
    "            train_iter.append(i)\n",
    "            train_vat_loss.append(v_loss.data.item())\n",
    "            train_ce_loss.append(ce_loss.data.item())\n",
    "\n",
    "    if epoch % eval_freq == 0 or epoch + 1 == opt.num_epochs:\n",
    "        \n",
    "        epoch_list.append(epoch)\n",
    "\n",
    "        batch_indices = torch.LongTensor(np.random.choice(labeled_train.size()[0], batch_size, replace=False))\n",
    "        x = labeled_train[batch_indices]\n",
    "        y = labeled_target[batch_indices]\n",
    "        train_accuracy = eval(model.eval(), Variable(tocuda(x)), Variable(tocuda(y)))\n",
    "        print(\"Train accuracy :\", train_accuracy.data)\n",
    "        train_acc.append(train_accuracy.data.item())\n",
    "\n",
    "        for (data, target) in test_loader:\n",
    "            test_accuracy = eval(model.eval(), Variable(tocuda(data)), Variable(tocuda(target)))\n",
    "            print(\"Test accuracy :\", test_accuracy.data)\n",
    "            test_acc.append(test_accuracy.data.item())\n",
    "            break\n",
    "\n",
    "\n",
    "test_accuracy = 0.0\n",
    "counter = 0\n",
    "for (data, target) in test_loader:\n",
    "    n = data.size()[0]\n",
    "    acc = eval(model.eval(), Variable(tocuda(data)), Variable(tocuda(target)))\n",
    "    test_accuracy += n*acc\n",
    "    counter += n\n",
    "\n",
    "print(\"Full test accuracy :\", test_accuracy.data/counter)"
   ]
  },
  {
   "cell_type": "code",
   "execution_count": 22,
   "id": "d7e51e5e",
   "metadata": {},
   "outputs": [
    {
     "data": {
      "text/html": [
       "<div>\n",
       "<style scoped>\n",
       "    .dataframe tbody tr th:only-of-type {\n",
       "        vertical-align: middle;\n",
       "    }\n",
       "\n",
       "    .dataframe tbody tr th {\n",
       "        vertical-align: top;\n",
       "    }\n",
       "\n",
       "    .dataframe thead th {\n",
       "        text-align: right;\n",
       "    }\n",
       "</style>\n",
       "<table border=\"1\" class=\"dataframe\">\n",
       "  <thead>\n",
       "    <tr style=\"text-align: right;\">\n",
       "      <th></th>\n",
       "      <th>epoch</th>\n",
       "      <th>iteration</th>\n",
       "      <th>vat_loss</th>\n",
       "      <th>train_ce_loss</th>\n",
       "    </tr>\n",
       "  </thead>\n",
       "  <tbody>\n",
       "    <tr>\n",
       "      <th>0</th>\n",
       "      <td>0</td>\n",
       "      <td>0</td>\n",
       "      <td>0.663366</td>\n",
       "      <td>2.878043</td>\n",
       "    </tr>\n",
       "    <tr>\n",
       "      <th>1</th>\n",
       "      <td>0</td>\n",
       "      <td>100</td>\n",
       "      <td>0.051889</td>\n",
       "      <td>2.830046</td>\n",
       "    </tr>\n",
       "    <tr>\n",
       "      <th>2</th>\n",
       "      <td>0</td>\n",
       "      <td>200</td>\n",
       "      <td>0.002962</td>\n",
       "      <td>2.287237</td>\n",
       "    </tr>\n",
       "    <tr>\n",
       "      <th>3</th>\n",
       "      <td>0</td>\n",
       "      <td>300</td>\n",
       "      <td>0.004651</td>\n",
       "      <td>2.262411</td>\n",
       "    </tr>\n",
       "    <tr>\n",
       "      <th>4</th>\n",
       "      <td>1</td>\n",
       "      <td>0</td>\n",
       "      <td>0.003711</td>\n",
       "      <td>2.277122</td>\n",
       "    </tr>\n",
       "  </tbody>\n",
       "</table>\n",
       "</div>"
      ],
      "text/plain": [
       "   epoch  iteration  vat_loss  train_ce_loss\n",
       "0      0          0  0.663366       2.878043\n",
       "1      0        100  0.051889       2.830046\n",
       "2      0        200  0.002962       2.287237\n",
       "3      0        300  0.004651       2.262411\n",
       "4      1          0  0.003711       2.277122"
      ]
     },
     "execution_count": 22,
     "metadata": {},
     "output_type": "execute_result"
    }
   ],
   "source": [
    "train_loss_df = pd.DataFrame({'epoch': train_epoch, 'iteration': train_iter, 'vat_loss': train_vat_loss, 'train_ce_loss': train_ce_loss})\n",
    "train_loss_df.round(4).to_csv('./result/svhn_3_loss.csv',index=False)\n",
    "train_loss_df.head()"
   ]
  },
  {
   "cell_type": "code",
   "execution_count": 23,
   "id": "fd225c88",
   "metadata": {},
   "outputs": [
    {
     "data": {
      "text/html": [
       "<div>\n",
       "<style scoped>\n",
       "    .dataframe tbody tr th:only-of-type {\n",
       "        vertical-align: middle;\n",
       "    }\n",
       "\n",
       "    .dataframe tbody tr th {\n",
       "        vertical-align: top;\n",
       "    }\n",
       "\n",
       "    .dataframe thead th {\n",
       "        text-align: right;\n",
       "    }\n",
       "</style>\n",
       "<table border=\"1\" class=\"dataframe\">\n",
       "  <thead>\n",
       "    <tr style=\"text-align: right;\">\n",
       "      <th></th>\n",
       "      <th>epoch</th>\n",
       "      <th>train_acc</th>\n",
       "      <th>test_acc</th>\n",
       "    </tr>\n",
       "  </thead>\n",
       "  <tbody>\n",
       "    <tr>\n",
       "      <th>0</th>\n",
       "      <td>0</td>\n",
       "      <td>0.25000</td>\n",
       "      <td>0.19</td>\n",
       "    </tr>\n",
       "    <tr>\n",
       "      <th>1</th>\n",
       "      <td>5</td>\n",
       "      <td>0.78125</td>\n",
       "      <td>0.75</td>\n",
       "    </tr>\n",
       "    <tr>\n",
       "      <th>2</th>\n",
       "      <td>9</td>\n",
       "      <td>1.00000</td>\n",
       "      <td>0.90</td>\n",
       "    </tr>\n",
       "  </tbody>\n",
       "</table>\n",
       "</div>"
      ],
      "text/plain": [
       "   epoch  train_acc  test_acc\n",
       "0      0    0.25000      0.19\n",
       "1      5    0.78125      0.75\n",
       "2      9    1.00000      0.90"
      ]
     },
     "execution_count": 23,
     "metadata": {},
     "output_type": "execute_result"
    }
   ],
   "source": [
    "loss_df = pd.DataFrame({'epoch' : epoch_list, 'train_acc' : train_acc, 'test_acc' : test_acc})\n",
    "loss_df.round(4).to_csv('./result/svhn_3_acc.csv',index=False)\n",
    "loss_df.head()"
   ]
  },
  {
   "cell_type": "code",
   "execution_count": 24,
   "id": "d4ae4cdc",
   "metadata": {},
   "outputs": [
    {
     "data": {
      "text/plain": [
       "<matplotlib.legend.Legend at 0x7f053c9e9400>"
      ]
     },
     "execution_count": 24,
     "metadata": {},
     "output_type": "execute_result"
    },
    {
     "data": {
      "image/png": "[encoded data removed]",
      "text/plain": [
       "<Figure size 864x288 with 1 Axes>"
      ]
     },
     "metadata": {
      "needs_background": "light"
     },
     "output_type": "display_data"
    }
   ],
   "source": [
    "plt.title('Loss plot : SVHN ', fontsize=20)\n",
    "p = sns.lineplot(data = train_loss_df, x = train_loss_df.index, y = 'vat_loss', color= 'r')\n",
    "p = sns.lineplot(data = train_loss_df, x = train_loss_df.index, y = 'train_ce_loss', color = 'b')\n",
    "p.set_ylabel('loss', fontsize = 12)\n",
    "plt.legend(labels=[\"VAT loss\",\"CE loss\"])"
   ]
  },
  {
   "cell_type": "code",
   "execution_count": 25,
   "id": "f407842a",
   "metadata": {},
   "outputs": [
    {
     "data": {
      "text/plain": [
       "<matplotlib.legend.Legend at 0x7f053c618f28>"
      ]
     },
     "execution_count": 25,
     "metadata": {},
     "output_type": "execute_result"
    },
    {
     "data": {
      "image/png": "[encoded data removed]",
      "text/plain": [
       "<Figure size 864x288 with 1 Axes>"
      ]
     },
     "metadata": {
      "needs_background": "light"
     },
     "output_type": "display_data"
    }
   ],
   "source": [
    "p = sns.lineplot(data = loss_df, x = 'epoch', y = 'train_acc', color= 'r')\n",
    "p = sns.lineplot(data = loss_df, x = 'epoch', y = 'test_acc', color = 'b')\n",
    "p.set_ylabel('accuracy', fontsize = 12)\n",
    "plt.legend(labels=[\"Train accuracy\",\"Test accuracy\"])"
   ]
  },
  {
   "attachments": {},
   "cell_type": "markdown",
   "id": "61c60147",
   "metadata": {},
   "source": [
    "### **Analysis**\n",
    "\n",
    "|**epsilon**|2.0|2.5|3.0|\n",
    "|:--:|:--:|:--:|:--:|\n",
    "|**result**|0.8770|0.8635|0.8883|\n",
    "\n",
    "- epsilon값의 변화에 따른 test accuracy는 다음과 같았습니다. epsilon값이 3.0으로 설정되었을 때, 가장 test accuracy가 높게 책정되었다는 결과를 확인할 수 있었습니다. 이는 epsilon값이 커지면 perturbation이 좀더 많이 적용된 예시들로 학습이 진행되면서 input에 perturbation이 추가되어도 model의 output에는 큰 변화가 생기지 않는, 즉, 강건한 model을 갖게 될 수 있다는 점을 의미합니다. 위의 경우, perturbation은 adversarial한 방향에 있게 된다는 점을 한번 더 짚고 넘어가면 좋을 것 같습니다."
   ]
  },
  {
   "attachments": {},
   "cell_type": "markdown",
   "id": "f988f591",
   "metadata": {},
   "source": [
    "### **Cifar 10 데이터셋**"
   ]
  },
  {
   "cell_type": "code",
   "execution_count": 26,
   "id": "91396564",
   "metadata": {},
   "outputs": [],
   "source": [
    "parser = argparse.ArgumentParser()\n",
    "\n",
    "parser.add_argument('--dataset', default = 'cifar10',  help='cifar10 | svhn')\n",
    "parser.add_argument('--dataroot', default = './data',  help='path to dataset')\n",
    "parser.add_argument('--use_cuda', type=bool, default=True)\n",
    "parser.add_argument('--num_epochs', type=int, default = 10)\n",
    "parser.add_argument('--epoch_decay_start', type=int, default = 6)\n",
    "parser.add_argument('--epsilon', type=float, default=2.5)\n",
    "parser.add_argument('--top_bn', type=bool, default=True)\n",
    "parser.add_argument('--method', default='vat')\n",
    "\n",
    "\n",
    "opt = parser.parse_args([])"
   ]
  },
  {
   "attachments": {},
   "cell_type": "markdown",
   "id": "6c695fb8",
   "metadata": {},
   "source": [
    "- 라벨 수 = 4000"
   ]
  },
  {
   "cell_type": "code",
   "execution_count": 27,
   "id": "34f7f1a2",
   "metadata": {},
   "outputs": [
    {
     "name": "stdout",
     "output_type": "stream",
     "text": [
      "Files already downloaded and verified\n",
      "Files already downloaded and verified\n"
     ]
    }
   ],
   "source": [
    "num_labeled = 4000\n",
    "train_loader = torch.utils.data.DataLoader(\n",
    "    datasets.CIFAR10(root=opt.dataroot, train=True, download=True,\n",
    "                    transform=transforms.Compose([\n",
    "                        transforms.ToTensor(),\n",
    "                        transforms.Normalize((0.5, 0.5, 0.5), (0.5, 0.5, 0.5))\n",
    "                    ])),\n",
    "    batch_size=batch_size, shuffle=True)\n",
    "\n",
    "test_loader = torch.utils.data.DataLoader(\n",
    "    datasets.CIFAR10(root=opt.dataroot, train=False, download=True,\n",
    "                    transform=transforms.Compose([\n",
    "                        transforms.ToTensor(),\n",
    "                        transforms.Normalize((0.5, 0.5, 0.5), (0.5, 0.5, 0.5))\n",
    "                    ])),\n",
    "    batch_size=eval_batch_size, shuffle=True)"
   ]
  },
  {
   "cell_type": "code",
   "execution_count": 28,
   "id": "37e6e06b",
   "metadata": {},
   "outputs": [
    {
     "name": "stdout",
     "output_type": "stream",
     "text": [
      "Epoch : 0 Iter : 0 VAT Loss : tensor(0.7324, device='cuda:0') CE Loss : tensor(2.8790, device='cuda:0')\n",
      "Epoch : 0 Iter : 100 VAT Loss : tensor(0.1284, device='cuda:0') CE Loss : tensor(1.9536, device='cuda:0')\n",
      "Epoch : 0 Iter : 200 VAT Loss : tensor(0.1798, device='cuda:0') CE Loss : tensor(1.9441, device='cuda:0')\n",
      "Epoch : 0 Iter : 300 VAT Loss : tensor(0.1277, device='cuda:0') CE Loss : tensor(1.8062, device='cuda:0')\n",
      "Train accuracy : tensor(0.4688, device='cuda:0')\n",
      "Test accuracy : tensor(0.3300, device='cuda:0')\n",
      "Epoch : 1 Iter : 0 VAT Loss : tensor(0.1298, device='cuda:0') CE Loss : tensor(1.6336, device='cuda:0')\n",
      "Epoch : 1 Iter : 100 VAT Loss : tensor(0.1321, device='cuda:0') CE Loss : tensor(1.8114, device='cuda:0')\n",
      "Epoch : 1 Iter : 200 VAT Loss : tensor(0.1559, device='cuda:0') CE Loss : tensor(1.4758, device='cuda:0')\n",
      "Epoch : 1 Iter : 300 VAT Loss : tensor(0.1560, device='cuda:0') CE Loss : tensor(1.6276, device='cuda:0')\n",
      "Epoch : 2 Iter : 0 VAT Loss : tensor(0.1366, device='cuda:0') CE Loss : tensor(1.8228, device='cuda:0')\n",
      "Epoch : 2 Iter : 100 VAT Loss : tensor(0.1438, device='cuda:0') CE Loss : tensor(1.5700, device='cuda:0')\n",
      "Epoch : 2 Iter : 200 VAT Loss : tensor(0.1708, device='cuda:0') CE Loss : tensor(1.5870, device='cuda:0')\n",
      "Epoch : 2 Iter : 300 VAT Loss : tensor(0.1753, device='cuda:0') CE Loss : tensor(1.6937, device='cuda:0')\n",
      "Epoch : 3 Iter : 0 VAT Loss : tensor(0.1666, device='cuda:0') CE Loss : tensor(1.6447, device='cuda:0')\n",
      "Epoch : 3 Iter : 100 VAT Loss : tensor(0.1319, device='cuda:0') CE Loss : tensor(1.6777, device='cuda:0')\n",
      "Epoch : 3 Iter : 200 VAT Loss : tensor(0.1540, device='cuda:0') CE Loss : tensor(1.6009, device='cuda:0')\n",
      "Epoch : 3 Iter : 300 VAT Loss : tensor(0.1664, device='cuda:0') CE Loss : tensor(1.4450, device='cuda:0')\n",
      "Epoch : 4 Iter : 0 VAT Loss : tensor(0.1752, device='cuda:0') CE Loss : tensor(1.7151, device='cuda:0')\n",
      "Epoch : 4 Iter : 100 VAT Loss : tensor(0.1870, device='cuda:0') CE Loss : tensor(1.5024, device='cuda:0')\n",
      "Epoch : 4 Iter : 200 VAT Loss : tensor(0.1817, device='cuda:0') CE Loss : tensor(1.5060, device='cuda:0')\n",
      "Epoch : 4 Iter : 300 VAT Loss : tensor(0.1895, device='cuda:0') CE Loss : tensor(1.5123, device='cuda:0')\n",
      "Epoch : 5 Iter : 0 VAT Loss : tensor(0.2153, device='cuda:0') CE Loss : tensor(1.2829, device='cuda:0')\n",
      "Epoch : 5 Iter : 100 VAT Loss : tensor(0.2022, device='cuda:0') CE Loss : tensor(1.6312, device='cuda:0')\n",
      "Epoch : 5 Iter : 200 VAT Loss : tensor(0.2173, device='cuda:0') CE Loss : tensor(1.4745, device='cuda:0')\n",
      "Epoch : 5 Iter : 300 VAT Loss : tensor(0.2001, device='cuda:0') CE Loss : tensor(1.6571, device='cuda:0')\n",
      "Train accuracy : tensor(0.6250, device='cuda:0')\n",
      "Test accuracy : tensor(0.5400, device='cuda:0')\n",
      "Epoch : 6 Iter : 0 VAT Loss : tensor(0.2206, device='cuda:0') CE Loss : tensor(1.4554, device='cuda:0')\n",
      "Epoch : 6 Iter : 100 VAT Loss : tensor(0.2241, device='cuda:0') CE Loss : tensor(1.4654, device='cuda:0')\n",
      "Epoch : 6 Iter : 200 VAT Loss : tensor(0.2188, device='cuda:0') CE Loss : tensor(1.5840, device='cuda:0')\n",
      "Epoch : 6 Iter : 300 VAT Loss : tensor(0.2408, device='cuda:0') CE Loss : tensor(1.5186, device='cuda:0')\n",
      "Epoch : 7 Iter : 0 VAT Loss : tensor(0.2083, device='cuda:0') CE Loss : tensor(1.3914, device='cuda:0')\n",
      "Epoch : 7 Iter : 100 VAT Loss : tensor(0.2571, device='cuda:0') CE Loss : tensor(1.4281, device='cuda:0')\n",
      "Epoch : 7 Iter : 200 VAT Loss : tensor(0.2279, device='cuda:0') CE Loss : tensor(1.2409, device='cuda:0')\n",
      "Epoch : 7 Iter : 300 VAT Loss : tensor(0.2376, device='cuda:0') CE Loss : tensor(1.5053, device='cuda:0')\n",
      "Epoch : 8 Iter : 0 VAT Loss : tensor(0.2256, device='cuda:0') CE Loss : tensor(1.3735, device='cuda:0')\n",
      "Epoch : 8 Iter : 100 VAT Loss : tensor(0.2061, device='cuda:0') CE Loss : tensor(1.3675, device='cuda:0')\n",
      "Epoch : 8 Iter : 200 VAT Loss : tensor(0.2156, device='cuda:0') CE Loss : tensor(1.4276, device='cuda:0')\n",
      "Epoch : 8 Iter : 300 VAT Loss : tensor(0.2346, device='cuda:0') CE Loss : tensor(1.4198, device='cuda:0')\n",
      "Epoch : 9 Iter : 0 VAT Loss : tensor(0.2961, device='cuda:0') CE Loss : tensor(1.1853, device='cuda:0')\n",
      "Epoch : 9 Iter : 100 VAT Loss : tensor(0.2470, device='cuda:0') CE Loss : tensor(1.2280, device='cuda:0')\n",
      "Epoch : 9 Iter : 200 VAT Loss : tensor(0.2626, device='cuda:0') CE Loss : tensor(1.3489, device='cuda:0')\n",
      "Epoch : 9 Iter : 300 VAT Loss : tensor(0.2649, device='cuda:0') CE Loss : tensor(1.2351, device='cuda:0')\n",
      "Train accuracy : tensor(0.7812, device='cuda:0')\n",
      "Test accuracy : tensor(0.5600, device='cuda:0')\n",
      "Full test accuracy : tensor(0.5745, device='cuda:0')\n"
     ]
    }
   ],
   "source": [
    "train_data = []\n",
    "train_target = []\n",
    "\n",
    "for (data, target) in train_loader:\n",
    "    train_data.append(data)\n",
    "    train_target.append(target)\n",
    "\n",
    "train_data = torch.cat(train_data, dim=0)\n",
    "train_target = torch.cat(train_target, dim=0)\n",
    "\n",
    "valid_data, train_data = train_data[:num_valid, ], train_data[num_valid:, ]\n",
    "valid_target, train_target = train_target[:num_valid], train_target[num_valid:, ]\n",
    "\n",
    "labeled_train, labeled_target = train_data[:num_labeled, ], train_target[:num_labeled, ]\n",
    "unlabeled_train = train_data[num_labeled:, ]\n",
    "\n",
    "model = tocuda(VAT(opt.top_bn))\n",
    "model.apply(weights_init)\n",
    "optimizer = optim.Adam(model.parameters(), lr=lr)\n",
    "\n",
    "train_vat_loss = []\n",
    "train_ce_loss = []\n",
    "train_epoch = []\n",
    "train_iter = []\n",
    "\n",
    "epoch_list = []\n",
    "train_acc = []\n",
    "test_acc = []\n",
    "\n",
    "# train the network\n",
    "for epoch in range(opt.num_epochs):\n",
    "\n",
    "    if epoch > opt.epoch_decay_start:\n",
    "        decayed_lr = (opt.num_epochs - epoch) * lr / (opt.num_epochs - opt.epoch_decay_start)\n",
    "        optimizer.lr = decayed_lr\n",
    "        optimizer.betas = (0.5, 0.999)\n",
    "\n",
    "    for i in range(num_iter_per_epoch):\n",
    "\n",
    "        batch_indices = torch.LongTensor(np.random.choice(labeled_train.size()[0], batch_size, replace=False))\n",
    "        x = labeled_train[batch_indices]\n",
    "        y = labeled_target[batch_indices]\n",
    "        batch_indices_unlabeled = torch.LongTensor(np.random.choice(unlabeled_train.size()[0], unlabeled_batch_size, replace=False))\n",
    "        ul_x = unlabeled_train[batch_indices_unlabeled]\n",
    "\n",
    "        v_loss, ce_loss = train(model.train(), Variable(tocuda(x)), Variable(tocuda(y)), Variable(tocuda(ul_x)),\n",
    "                                optimizer)\n",
    "\n",
    "        if i % 100 == 0:\n",
    "            print(\"Epoch :\", epoch, \"Iter :\", i, \"VAT Loss :\", v_loss.data, \"CE Loss :\", ce_loss.data)\n",
    "            train_epoch.append(epoch)\n",
    "            train_iter.append(i)\n",
    "            train_vat_loss.append(v_loss.data.item())\n",
    "            train_ce_loss.append(ce_loss.data.item())\n",
    "\n",
    "    if epoch % eval_freq == 0 or epoch + 1 == opt.num_epochs:\n",
    "        \n",
    "        epoch_list.append(epoch)\n",
    "\n",
    "        batch_indices = torch.LongTensor(np.random.choice(labeled_train.size()[0], batch_size, replace=False))\n",
    "        x = labeled_train[batch_indices]\n",
    "        y = labeled_target[batch_indices]\n",
    "        train_accuracy = eval(model.eval(), Variable(tocuda(x)), Variable(tocuda(y)))\n",
    "        print(\"Train accuracy :\", train_accuracy.data)\n",
    "        train_acc.append(train_accuracy.data.item())\n",
    "\n",
    "        for (data, target) in test_loader:\n",
    "            test_accuracy = eval(model.eval(), Variable(tocuda(data)), Variable(tocuda(target)))\n",
    "            print(\"Test accuracy :\", test_accuracy.data)\n",
    "            test_acc.append(test_accuracy.data.item())\n",
    "            break\n",
    "\n",
    "\n",
    "test_accuracy = 0.0\n",
    "counter = 0\n",
    "for (data, target) in test_loader:\n",
    "    n = data.size()[0]\n",
    "    acc = eval(model.eval(), Variable(tocuda(data)), Variable(tocuda(target)))\n",
    "    test_accuracy += n*acc\n",
    "    counter += n\n",
    "\n",
    "print(\"Full test accuracy :\", test_accuracy.data/counter)"
   ]
  },
  {
   "cell_type": "code",
   "execution_count": 29,
   "id": "8faec42d",
   "metadata": {},
   "outputs": [
    {
     "data": {
      "text/html": [
       "<div>\n",
       "<style scoped>\n",
       "    .dataframe tbody tr th:only-of-type {\n",
       "        vertical-align: middle;\n",
       "    }\n",
       "\n",
       "    .dataframe tbody tr th {\n",
       "        vertical-align: top;\n",
       "    }\n",
       "\n",
       "    .dataframe thead th {\n",
       "        text-align: right;\n",
       "    }\n",
       "</style>\n",
       "<table border=\"1\" class=\"dataframe\">\n",
       "  <thead>\n",
       "    <tr style=\"text-align: right;\">\n",
       "      <th></th>\n",
       "      <th>epoch</th>\n",
       "      <th>iteration</th>\n",
       "      <th>vat_loss</th>\n",
       "      <th>train_ce_loss</th>\n",
       "    </tr>\n",
       "  </thead>\n",
       "  <tbody>\n",
       "    <tr>\n",
       "      <th>0</th>\n",
       "      <td>0</td>\n",
       "      <td>0</td>\n",
       "      <td>0.732393</td>\n",
       "      <td>2.878994</td>\n",
       "    </tr>\n",
       "    <tr>\n",
       "      <th>1</th>\n",
       "      <td>0</td>\n",
       "      <td>100</td>\n",
       "      <td>0.128443</td>\n",
       "      <td>1.953575</td>\n",
       "    </tr>\n",
       "    <tr>\n",
       "      <th>2</th>\n",
       "      <td>0</td>\n",
       "      <td>200</td>\n",
       "      <td>0.179817</td>\n",
       "      <td>1.944085</td>\n",
       "    </tr>\n",
       "    <tr>\n",
       "      <th>3</th>\n",
       "      <td>0</td>\n",
       "      <td>300</td>\n",
       "      <td>0.127739</td>\n",
       "      <td>1.806246</td>\n",
       "    </tr>\n",
       "    <tr>\n",
       "      <th>4</th>\n",
       "      <td>1</td>\n",
       "      <td>0</td>\n",
       "      <td>0.129796</td>\n",
       "      <td>1.633604</td>\n",
       "    </tr>\n",
       "  </tbody>\n",
       "</table>\n",
       "</div>"
      ],
      "text/plain": [
       "   epoch  iteration  vat_loss  train_ce_loss\n",
       "0      0          0  0.732393       2.878994\n",
       "1      0        100  0.128443       1.953575\n",
       "2      0        200  0.179817       1.944085\n",
       "3      0        300  0.127739       1.806246\n",
       "4      1          0  0.129796       1.633604"
      ]
     },
     "execution_count": 29,
     "metadata": {},
     "output_type": "execute_result"
    }
   ],
   "source": [
    "train_loss_df = pd.DataFrame({'epoch': train_epoch, 'iteration': train_iter, 'vat_loss': train_vat_loss, 'train_ce_loss': train_ce_loss})\n",
    "train_loss_df.round(4).to_csv('./result/cifar10_4000_loss.csv',index=False)\n",
    "train_loss_df.head()"
   ]
  },
  {
   "cell_type": "code",
   "execution_count": 30,
   "id": "cb2e83dc",
   "metadata": {},
   "outputs": [
    {
     "data": {
      "text/html": [
       "<div>\n",
       "<style scoped>\n",
       "    .dataframe tbody tr th:only-of-type {\n",
       "        vertical-align: middle;\n",
       "    }\n",
       "\n",
       "    .dataframe tbody tr th {\n",
       "        vertical-align: top;\n",
       "    }\n",
       "\n",
       "    .dataframe thead th {\n",
       "        text-align: right;\n",
       "    }\n",
       "</style>\n",
       "<table border=\"1\" class=\"dataframe\">\n",
       "  <thead>\n",
       "    <tr style=\"text-align: right;\">\n",
       "      <th></th>\n",
       "      <th>epoch</th>\n",
       "      <th>train_acc</th>\n",
       "      <th>test_acc</th>\n",
       "    </tr>\n",
       "  </thead>\n",
       "  <tbody>\n",
       "    <tr>\n",
       "      <th>0</th>\n",
       "      <td>0</td>\n",
       "      <td>0.46875</td>\n",
       "      <td>0.33</td>\n",
       "    </tr>\n",
       "    <tr>\n",
       "      <th>1</th>\n",
       "      <td>5</td>\n",
       "      <td>0.62500</td>\n",
       "      <td>0.54</td>\n",
       "    </tr>\n",
       "    <tr>\n",
       "      <th>2</th>\n",
       "      <td>9</td>\n",
       "      <td>0.78125</td>\n",
       "      <td>0.56</td>\n",
       "    </tr>\n",
       "  </tbody>\n",
       "</table>\n",
       "</div>"
      ],
      "text/plain": [
       "   epoch  train_acc  test_acc\n",
       "0      0    0.46875      0.33\n",
       "1      5    0.62500      0.54\n",
       "2      9    0.78125      0.56"
      ]
     },
     "execution_count": 30,
     "metadata": {},
     "output_type": "execute_result"
    }
   ],
   "source": [
    "loss_df = pd.DataFrame({'epoch' : epoch_list, 'train_acc' : train_acc, 'test_acc' : test_acc})\n",
    "loss_df.round(4).to_csv('./result/cifar10_4000_acc.csv',index=False)\n",
    "loss_df.head()"
   ]
  },
  {
   "cell_type": "code",
   "execution_count": 31,
   "id": "6cda798a",
   "metadata": {},
   "outputs": [
    {
     "data": {
      "text/plain": [
       "<matplotlib.legend.Legend at 0x7f055d53c470>"
      ]
     },
     "execution_count": 31,
     "metadata": {},
     "output_type": "execute_result"
    },
    {
     "data": {
      "image/png": "[encoded data removed]",
      "text/plain": [
       "<Figure size 864x288 with 1 Axes>"
      ]
     },
     "metadata": {
      "needs_background": "light"
     },
     "output_type": "display_data"
    }
   ],
   "source": [
    "plt.title('Loss plot : Cifar10 ', fontsize=20) \n",
    "p = sns.lineplot(data = train_loss_df, x = train_loss_df.index, y = 'vat_loss', color= 'r')\n",
    "p = sns.lineplot(data = train_loss_df, x = train_loss_df.index, y = 'train_ce_loss', color = 'b')\n",
    "p.set_ylabel('loss', fontsize = 12)\n",
    "plt.legend(labels=[\"VAT loss\",\"CE loss\"])"
   ]
  },
  {
   "cell_type": "code",
   "execution_count": 32,
   "id": "d352dee5",
   "metadata": {},
   "outputs": [
    {
     "data": {
      "text/plain": [
       "<matplotlib.legend.Legend at 0x7f055d521908>"
      ]
     },
     "execution_count": 32,
     "metadata": {},
     "output_type": "execute_result"
    },
    {
     "data": {
      "image/png": "[encoded data removed]",
      "text/plain": [
       "<Figure size 864x288 with 1 Axes>"
      ]
     },
     "metadata": {
      "needs_background": "light"
     },
     "output_type": "display_data"
    }
   ],
   "source": [
    "p = sns.lineplot(data = loss_df, x = 'epoch', y = 'train_acc', color= 'r')\n",
    "p = sns.lineplot(data = loss_df, x = 'epoch', y = 'test_acc', color = 'b')\n",
    "p.set_ylabel('accuracy', fontsize = 12)\n",
    "plt.legend(labels=[\"Train accuracy\",\"Test accuracy\"])"
   ]
  },
  {
   "attachments": {},
   "cell_type": "markdown",
   "id": "85184e00",
   "metadata": {},
   "source": [
    "- 라벨 수 = 2000"
   ]
  },
  {
   "cell_type": "code",
   "execution_count": 33,
   "id": "b70128bf",
   "metadata": {},
   "outputs": [
    {
     "name": "stdout",
     "output_type": "stream",
     "text": [
      "Files already downloaded and verified\n",
      "Files already downloaded and verified\n"
     ]
    }
   ],
   "source": [
    "num_labeled = 2000\n",
    "train_loader = torch.utils.data.DataLoader(\n",
    "    datasets.CIFAR10(root=opt.dataroot, train=True, download=True,\n",
    "                    transform=transforms.Compose([\n",
    "                        transforms.ToTensor(),\n",
    "                        transforms.Normalize((0.5, 0.5, 0.5), (0.5, 0.5, 0.5))\n",
    "                    ])),\n",
    "    batch_size=batch_size, shuffle=True)\n",
    "\n",
    "test_loader = torch.utils.data.DataLoader(\n",
    "    datasets.CIFAR10(root=opt.dataroot, train=False, download=True,\n",
    "                    transform=transforms.Compose([\n",
    "                        transforms.ToTensor(),\n",
    "                        transforms.Normalize((0.5, 0.5, 0.5), (0.5, 0.5, 0.5))\n",
    "                    ])),\n",
    "    batch_size=eval_batch_size, shuffle=True)"
   ]
  },
  {
   "cell_type": "code",
   "execution_count": 34,
   "id": "d47f9dfc",
   "metadata": {},
   "outputs": [
    {
     "name": "stdout",
     "output_type": "stream",
     "text": [
      "Epoch : 0 Iter : 0 VAT Loss : tensor(0.8176, device='cuda:0') CE Loss : tensor(2.9062, device='cuda:0')\n",
      "Epoch : 0 Iter : 100 VAT Loss : tensor(0.1433, device='cuda:0') CE Loss : tensor(2.0185, device='cuda:0')\n",
      "Epoch : 0 Iter : 200 VAT Loss : tensor(0.1930, device='cuda:0') CE Loss : tensor(1.7427, device='cuda:0')\n",
      "Epoch : 0 Iter : 300 VAT Loss : tensor(0.1424, device='cuda:0') CE Loss : tensor(1.7270, device='cuda:0')\n",
      "Train accuracy : tensor(0.2812, device='cuda:0')\n",
      "Test accuracy : tensor(0.4000, device='cuda:0')\n",
      "Epoch : 1 Iter : 0 VAT Loss : tensor(0.1712, device='cuda:0') CE Loss : tensor(1.7060, device='cuda:0')\n",
      "Epoch : 1 Iter : 100 VAT Loss : tensor(0.1462, device='cuda:0') CE Loss : tensor(1.7229, device='cuda:0')\n",
      "Epoch : 1 Iter : 200 VAT Loss : tensor(0.1130, device='cuda:0') CE Loss : tensor(1.5864, device='cuda:0')\n",
      "Epoch : 1 Iter : 300 VAT Loss : tensor(0.1475, device='cuda:0') CE Loss : tensor(1.7368, device='cuda:0')\n",
      "Epoch : 2 Iter : 0 VAT Loss : tensor(0.1962, device='cuda:0') CE Loss : tensor(1.5442, device='cuda:0')\n",
      "Epoch : 2 Iter : 100 VAT Loss : tensor(0.1550, device='cuda:0') CE Loss : tensor(1.7405, device='cuda:0')\n",
      "Epoch : 2 Iter : 200 VAT Loss : tensor(0.1883, device='cuda:0') CE Loss : tensor(1.4546, device='cuda:0')\n",
      "Epoch : 2 Iter : 300 VAT Loss : tensor(0.1594, device='cuda:0') CE Loss : tensor(1.5659, device='cuda:0')\n",
      "Epoch : 3 Iter : 0 VAT Loss : tensor(0.1740, device='cuda:0') CE Loss : tensor(1.5374, device='cuda:0')\n",
      "Epoch : 3 Iter : 100 VAT Loss : tensor(0.2021, device='cuda:0') CE Loss : tensor(1.3703, device='cuda:0')\n",
      "Epoch : 3 Iter : 200 VAT Loss : tensor(0.1997, device='cuda:0') CE Loss : tensor(1.4629, device='cuda:0')\n",
      "Epoch : 3 Iter : 300 VAT Loss : tensor(0.2055, device='cuda:0') CE Loss : tensor(1.4356, device='cuda:0')\n",
      "Epoch : 4 Iter : 0 VAT Loss : tensor(0.2191, device='cuda:0') CE Loss : tensor(1.4472, device='cuda:0')\n",
      "Epoch : 4 Iter : 100 VAT Loss : tensor(0.1770, device='cuda:0') CE Loss : tensor(1.1760, device='cuda:0')\n",
      "Epoch : 4 Iter : 200 VAT Loss : tensor(0.2146, device='cuda:0') CE Loss : tensor(1.4900, device='cuda:0')\n",
      "Epoch : 4 Iter : 300 VAT Loss : tensor(0.2050, device='cuda:0') CE Loss : tensor(1.4833, device='cuda:0')\n",
      "Epoch : 5 Iter : 0 VAT Loss : tensor(0.2429, device='cuda:0') CE Loss : tensor(1.4178, device='cuda:0')\n",
      "Epoch : 5 Iter : 100 VAT Loss : tensor(0.2356, device='cuda:0') CE Loss : tensor(1.3970, device='cuda:0')\n",
      "Epoch : 5 Iter : 200 VAT Loss : tensor(0.2053, device='cuda:0') CE Loss : tensor(1.4279, device='cuda:0')\n",
      "Epoch : 5 Iter : 300 VAT Loss : tensor(0.2361, device='cuda:0') CE Loss : tensor(1.3009, device='cuda:0')\n",
      "Train accuracy : tensor(0.6562, device='cuda:0')\n",
      "Test accuracy : tensor(0.5100, device='cuda:0')\n",
      "Epoch : 6 Iter : 0 VAT Loss : tensor(0.2199, device='cuda:0') CE Loss : tensor(1.3713, device='cuda:0')\n",
      "Epoch : 6 Iter : 100 VAT Loss : tensor(0.2734, device='cuda:0') CE Loss : tensor(1.1945, device='cuda:0')\n",
      "Epoch : 6 Iter : 200 VAT Loss : tensor(0.2396, device='cuda:0') CE Loss : tensor(1.2212, device='cuda:0')\n",
      "Epoch : 6 Iter : 300 VAT Loss : tensor(0.2270, device='cuda:0') CE Loss : tensor(1.1454, device='cuda:0')\n",
      "Epoch : 7 Iter : 0 VAT Loss : tensor(0.2396, device='cuda:0') CE Loss : tensor(1.3191, device='cuda:0')\n",
      "Epoch : 7 Iter : 100 VAT Loss : tensor(0.2516, device='cuda:0') CE Loss : tensor(1.4629, device='cuda:0')\n",
      "Epoch : 7 Iter : 200 VAT Loss : tensor(0.2528, device='cuda:0') CE Loss : tensor(1.4053, device='cuda:0')\n",
      "Epoch : 7 Iter : 300 VAT Loss : tensor(0.2906, device='cuda:0') CE Loss : tensor(1.1771, device='cuda:0')\n",
      "Epoch : 8 Iter : 0 VAT Loss : tensor(0.2531, device='cuda:0') CE Loss : tensor(1.2598, device='cuda:0')\n",
      "Epoch : 8 Iter : 100 VAT Loss : tensor(0.2871, device='cuda:0') CE Loss : tensor(1.2362, device='cuda:0')\n",
      "Epoch : 8 Iter : 200 VAT Loss : tensor(0.2726, device='cuda:0') CE Loss : tensor(1.0545, device='cuda:0')\n",
      "Epoch : 8 Iter : 300 VAT Loss : tensor(0.2960, device='cuda:0') CE Loss : tensor(1.2219, device='cuda:0')\n",
      "Epoch : 9 Iter : 0 VAT Loss : tensor(0.3221, device='cuda:0') CE Loss : tensor(1.0351, device='cuda:0')\n",
      "Epoch : 9 Iter : 100 VAT Loss : tensor(0.2687, device='cuda:0') CE Loss : tensor(1.2942, device='cuda:0')\n",
      "Epoch : 9 Iter : 200 VAT Loss : tensor(0.3371, device='cuda:0') CE Loss : tensor(1.2956, device='cuda:0')\n",
      "Epoch : 9 Iter : 300 VAT Loss : tensor(0.3218, device='cuda:0') CE Loss : tensor(1.0625, device='cuda:0')\n",
      "Train accuracy : tensor(0.7812, device='cuda:0')\n",
      "Test accuracy : tensor(0.5600, device='cuda:0')\n",
      "Full test accuracy : tensor(0.5456, device='cuda:0')\n"
     ]
    }
   ],
   "source": [
    "train_data = []\n",
    "train_target = []\n",
    "\n",
    "for (data, target) in train_loader:\n",
    "    train_data.append(data)\n",
    "    train_target.append(target)\n",
    "\n",
    "train_data = torch.cat(train_data, dim=0)\n",
    "train_target = torch.cat(train_target, dim=0)\n",
    "\n",
    "valid_data, train_data = train_data[:num_valid, ], train_data[num_valid:, ]\n",
    "valid_target, train_target = train_target[:num_valid], train_target[num_valid:, ]\n",
    "\n",
    "labeled_train, labeled_target = train_data[:num_labeled, ], train_target[:num_labeled, ]\n",
    "unlabeled_train = train_data[num_labeled:, ]\n",
    "\n",
    "model = tocuda(VAT(opt.top_bn))\n",
    "model.apply(weights_init)\n",
    "optimizer = optim.Adam(model.parameters(), lr=lr)\n",
    "\n",
    "train_vat_loss = []\n",
    "train_ce_loss = []\n",
    "train_epoch = []\n",
    "train_iter = []\n",
    "\n",
    "epoch_list = []\n",
    "train_acc = []\n",
    "test_acc = []\n",
    "\n",
    "# train the network\n",
    "for epoch in range(opt.num_epochs):\n",
    "\n",
    "    if epoch > opt.epoch_decay_start:\n",
    "        decayed_lr = (opt.num_epochs - epoch) * lr / (opt.num_epochs - opt.epoch_decay_start)\n",
    "        optimizer.lr = decayed_lr\n",
    "        optimizer.betas = (0.5, 0.999)\n",
    "\n",
    "    for i in range(num_iter_per_epoch):\n",
    "\n",
    "        batch_indices = torch.LongTensor(np.random.choice(labeled_train.size()[0], batch_size, replace=False))\n",
    "        x = labeled_train[batch_indices]\n",
    "        y = labeled_target[batch_indices]\n",
    "        batch_indices_unlabeled = torch.LongTensor(np.random.choice(unlabeled_train.size()[0], unlabeled_batch_size, replace=False))\n",
    "        ul_x = unlabeled_train[batch_indices_unlabeled]\n",
    "\n",
    "        v_loss, ce_loss = train(model.train(), Variable(tocuda(x)), Variable(tocuda(y)), Variable(tocuda(ul_x)),\n",
    "                                optimizer)\n",
    "\n",
    "        if i % 100 == 0:\n",
    "            print(\"Epoch :\", epoch, \"Iter :\", i, \"VAT Loss :\", v_loss.data, \"CE Loss :\", ce_loss.data)\n",
    "            train_epoch.append(epoch)\n",
    "            train_iter.append(i)\n",
    "            train_vat_loss.append(v_loss.data.item())\n",
    "            train_ce_loss.append(ce_loss.data.item())\n",
    "\n",
    "    if epoch % eval_freq == 0 or epoch + 1 == opt.num_epochs:\n",
    "        \n",
    "        epoch_list.append(epoch)\n",
    "\n",
    "        batch_indices = torch.LongTensor(np.random.choice(labeled_train.size()[0], batch_size, replace=False))\n",
    "        x = labeled_train[batch_indices]\n",
    "        y = labeled_target[batch_indices]\n",
    "        train_accuracy = eval(model.eval(), Variable(tocuda(x)), Variable(tocuda(y)))\n",
    "        print(\"Train accuracy :\", train_accuracy.data)\n",
    "        train_acc.append(train_accuracy.data.item())\n",
    "\n",
    "        for (data, target) in test_loader:\n",
    "            test_accuracy = eval(model.eval(), Variable(tocuda(data)), Variable(tocuda(target)))\n",
    "            print(\"Test accuracy :\", test_accuracy.data)\n",
    "            test_acc.append(test_accuracy.data.item())\n",
    "            break\n",
    "\n",
    "\n",
    "test_accuracy = 0.0\n",
    "counter = 0\n",
    "for (data, target) in test_loader:\n",
    "    n = data.size()[0]\n",
    "    acc = eval(model.eval(), Variable(tocuda(data)), Variable(tocuda(target)))\n",
    "    test_accuracy += n*acc\n",
    "    counter += n\n",
    "\n",
    "print(\"Full test accuracy :\", test_accuracy.data/counter)"
   ]
  },
  {
   "cell_type": "code",
   "execution_count": 35,
   "id": "a2901fbf",
   "metadata": {},
   "outputs": [
    {
     "data": {
      "text/html": [
       "<div>\n",
       "<style scoped>\n",
       "    .dataframe tbody tr th:only-of-type {\n",
       "        vertical-align: middle;\n",
       "    }\n",
       "\n",
       "    .dataframe tbody tr th {\n",
       "        vertical-align: top;\n",
       "    }\n",
       "\n",
       "    .dataframe thead th {\n",
       "        text-align: right;\n",
       "    }\n",
       "</style>\n",
       "<table border=\"1\" class=\"dataframe\">\n",
       "  <thead>\n",
       "    <tr style=\"text-align: right;\">\n",
       "      <th></th>\n",
       "      <th>epoch</th>\n",
       "      <th>iteration</th>\n",
       "      <th>vat_loss</th>\n",
       "      <th>train_ce_loss</th>\n",
       "    </tr>\n",
       "  </thead>\n",
       "  <tbody>\n",
       "    <tr>\n",
       "      <th>0</th>\n",
       "      <td>0</td>\n",
       "      <td>0</td>\n",
       "      <td>0.817554</td>\n",
       "      <td>2.906203</td>\n",
       "    </tr>\n",
       "    <tr>\n",
       "      <th>1</th>\n",
       "      <td>0</td>\n",
       "      <td>100</td>\n",
       "      <td>0.143324</td>\n",
       "      <td>2.018546</td>\n",
       "    </tr>\n",
       "    <tr>\n",
       "      <th>2</th>\n",
       "      <td>0</td>\n",
       "      <td>200</td>\n",
       "      <td>0.193044</td>\n",
       "      <td>1.742650</td>\n",
       "    </tr>\n",
       "    <tr>\n",
       "      <th>3</th>\n",
       "      <td>0</td>\n",
       "      <td>300</td>\n",
       "      <td>0.142422</td>\n",
       "      <td>1.726969</td>\n",
       "    </tr>\n",
       "    <tr>\n",
       "      <th>4</th>\n",
       "      <td>1</td>\n",
       "      <td>0</td>\n",
       "      <td>0.171152</td>\n",
       "      <td>1.706032</td>\n",
       "    </tr>\n",
       "  </tbody>\n",
       "</table>\n",
       "</div>"
      ],
      "text/plain": [
       "   epoch  iteration  vat_loss  train_ce_loss\n",
       "0      0          0  0.817554       2.906203\n",
       "1      0        100  0.143324       2.018546\n",
       "2      0        200  0.193044       1.742650\n",
       "3      0        300  0.142422       1.726969\n",
       "4      1          0  0.171152       1.706032"
      ]
     },
     "execution_count": 35,
     "metadata": {},
     "output_type": "execute_result"
    }
   ],
   "source": [
    "train_loss_df = pd.DataFrame({'epoch': train_epoch, 'iteration': train_iter, 'vat_loss': train_vat_loss, 'train_ce_loss': train_ce_loss})\n",
    "train_loss_df.round(4).to_csv('./result/cifar10_2000_loss.csv',index=False)\n",
    "train_loss_df.head()"
   ]
  },
  {
   "cell_type": "code",
   "execution_count": 36,
   "id": "051acd4a",
   "metadata": {},
   "outputs": [
    {
     "data": {
      "text/html": [
       "<div>\n",
       "<style scoped>\n",
       "    .dataframe tbody tr th:only-of-type {\n",
       "        vertical-align: middle;\n",
       "    }\n",
       "\n",
       "    .dataframe tbody tr th {\n",
       "        vertical-align: top;\n",
       "    }\n",
       "\n",
       "    .dataframe thead th {\n",
       "        text-align: right;\n",
       "    }\n",
       "</style>\n",
       "<table border=\"1\" class=\"dataframe\">\n",
       "  <thead>\n",
       "    <tr style=\"text-align: right;\">\n",
       "      <th></th>\n",
       "      <th>epoch</th>\n",
       "      <th>train_acc</th>\n",
       "      <th>test_acc</th>\n",
       "    </tr>\n",
       "  </thead>\n",
       "  <tbody>\n",
       "    <tr>\n",
       "      <th>0</th>\n",
       "      <td>0</td>\n",
       "      <td>0.28125</td>\n",
       "      <td>0.40</td>\n",
       "    </tr>\n",
       "    <tr>\n",
       "      <th>1</th>\n",
       "      <td>5</td>\n",
       "      <td>0.65625</td>\n",
       "      <td>0.51</td>\n",
       "    </tr>\n",
       "    <tr>\n",
       "      <th>2</th>\n",
       "      <td>9</td>\n",
       "      <td>0.78125</td>\n",
       "      <td>0.56</td>\n",
       "    </tr>\n",
       "  </tbody>\n",
       "</table>\n",
       "</div>"
      ],
      "text/plain": [
       "   epoch  train_acc  test_acc\n",
       "0      0    0.28125      0.40\n",
       "1      5    0.65625      0.51\n",
       "2      9    0.78125      0.56"
      ]
     },
     "execution_count": 36,
     "metadata": {},
     "output_type": "execute_result"
    }
   ],
   "source": [
    "loss_df = pd.DataFrame({'epoch' : epoch_list, 'train_acc' : train_acc, 'test_acc' : test_acc})\n",
    "loss_df.round(4).to_csv('./result/cifar10_2000_acc.csv',index=False)\n",
    "loss_df.head()"
   ]
  },
  {
   "cell_type": "code",
   "execution_count": 37,
   "id": "ae6b4f5e",
   "metadata": {},
   "outputs": [
    {
     "data": {
      "text/plain": [
       "<matplotlib.legend.Legend at 0x7f055d4dd588>"
      ]
     },
     "execution_count": 37,
     "metadata": {},
     "output_type": "execute_result"
    },
    {
     "data": {
      "image/png": "[encoded data removed]",
      "text/plain": [
       "<Figure size 864x288 with 1 Axes>"
      ]
     },
     "metadata": {
      "needs_background": "light"
     },
     "output_type": "display_data"
    }
   ],
   "source": [
    "plt.title('Loss plot : Cifar10 ', fontsize=20)\n",
    "p = sns.lineplot(data = train_loss_df, x = train_loss_df.index, y = 'vat_loss', color= 'r')\n",
    "p = sns.lineplot(data = train_loss_df, x = train_loss_df.index, y = 'train_ce_loss', color = 'b')\n",
    "p.set_ylabel('loss', fontsize = 12)\n",
    "plt.legend(labels=[\"VAT loss\",\"CE loss\"])"
   ]
  },
  {
   "cell_type": "code",
   "execution_count": 38,
   "id": "50e6a527",
   "metadata": {},
   "outputs": [
    {
     "data": {
      "text/plain": [
       "<matplotlib.legend.Legend at 0x7f055d45dcc0>"
      ]
     },
     "execution_count": 38,
     "metadata": {},
     "output_type": "execute_result"
    },
    {
     "data": {
      "image/png": "[encoded data removed]",
      "text/plain": [
       "<Figure size 864x288 with 1 Axes>"
      ]
     },
     "metadata": {
      "needs_background": "light"
     },
     "output_type": "display_data"
    }
   ],
   "source": [
    "p = sns.lineplot(data = loss_df, x = 'epoch', y = 'train_acc', color= 'r')\n",
    "p = sns.lineplot(data = loss_df, x = 'epoch', y = 'test_acc', color = 'b')\n",
    "p.set_ylabel('accuracy', fontsize = 12)\n",
    "plt.legend(labels=[\"Train accuracy\",\"Test accuracy\"])"
   ]
  },
  {
   "attachments": {},
   "cell_type": "markdown",
   "id": "b38a76f4",
   "metadata": {},
   "source": [
    "- 라벨 수 = 1000"
   ]
  },
  {
   "cell_type": "code",
   "execution_count": 39,
   "id": "431c5c68",
   "metadata": {},
   "outputs": [
    {
     "name": "stdout",
     "output_type": "stream",
     "text": [
      "Files already downloaded and verified\n",
      "Files already downloaded and verified\n"
     ]
    }
   ],
   "source": [
    "num_labeled = 1000\n",
    "train_loader = torch.utils.data.DataLoader(\n",
    "    datasets.CIFAR10(root=opt.dataroot, train=True, download=True,\n",
    "                    transform=transforms.Compose([\n",
    "                        transforms.ToTensor(),\n",
    "                        transforms.Normalize((0.5, 0.5, 0.5), (0.5, 0.5, 0.5))\n",
    "                    ])),\n",
    "    batch_size=batch_size, shuffle=True)\n",
    "\n",
    "test_loader = torch.utils.data.DataLoader(\n",
    "    datasets.CIFAR10(root=opt.dataroot, train=False, download=True,\n",
    "                    transform=transforms.Compose([\n",
    "                        transforms.ToTensor(),\n",
    "                        transforms.Normalize((0.5, 0.5, 0.5), (0.5, 0.5, 0.5))\n",
    "                    ])),\n",
    "    batch_size=eval_batch_size, shuffle=True)"
   ]
  },
  {
   "cell_type": "code",
   "execution_count": 40,
   "id": "6020f1c8",
   "metadata": {},
   "outputs": [
    {
     "name": "stdout",
     "output_type": "stream",
     "text": [
      "Epoch : 0 Iter : 0 VAT Loss : tensor(0.7073, device='cuda:0') CE Loss : tensor(2.6236, device='cuda:0')\n",
      "Epoch : 0 Iter : 100 VAT Loss : tensor(0.1379, device='cuda:0') CE Loss : tensor(1.9734, device='cuda:0')\n",
      "Epoch : 0 Iter : 200 VAT Loss : tensor(0.1141, device='cuda:0') CE Loss : tensor(1.8411, device='cuda:0')\n",
      "Epoch : 0 Iter : 300 VAT Loss : tensor(0.1358, device='cuda:0') CE Loss : tensor(1.6626, device='cuda:0')\n",
      "Train accuracy : tensor(0.4688, device='cuda:0')\n",
      "Test accuracy : tensor(0.3600, device='cuda:0')\n",
      "Epoch : 1 Iter : 0 VAT Loss : tensor(0.1358, device='cuda:0') CE Loss : tensor(1.6673, device='cuda:0')\n",
      "Epoch : 1 Iter : 100 VAT Loss : tensor(0.1425, device='cuda:0') CE Loss : tensor(1.7105, device='cuda:0')\n",
      "Epoch : 1 Iter : 200 VAT Loss : tensor(0.1835, device='cuda:0') CE Loss : tensor(1.7555, device='cuda:0')\n",
      "Epoch : 1 Iter : 300 VAT Loss : tensor(0.1649, device='cuda:0') CE Loss : tensor(1.5621, device='cuda:0')\n",
      "Epoch : 2 Iter : 0 VAT Loss : tensor(0.1766, device='cuda:0') CE Loss : tensor(1.4694, device='cuda:0')\n",
      "Epoch : 2 Iter : 100 VAT Loss : tensor(0.1843, device='cuda:0') CE Loss : tensor(1.2977, device='cuda:0')\n",
      "Epoch : 2 Iter : 200 VAT Loss : tensor(0.2334, device='cuda:0') CE Loss : tensor(1.6436, device='cuda:0')\n",
      "Epoch : 2 Iter : 300 VAT Loss : tensor(0.2017, device='cuda:0') CE Loss : tensor(1.7148, device='cuda:0')\n",
      "Epoch : 3 Iter : 0 VAT Loss : tensor(0.2208, device='cuda:0') CE Loss : tensor(1.4994, device='cuda:0')\n",
      "Epoch : 3 Iter : 100 VAT Loss : tensor(0.2452, device='cuda:0') CE Loss : tensor(1.5082, device='cuda:0')\n",
      "Epoch : 3 Iter : 200 VAT Loss : tensor(0.2028, device='cuda:0') CE Loss : tensor(1.3203, device='cuda:0')\n",
      "Epoch : 3 Iter : 300 VAT Loss : tensor(0.2757, device='cuda:0') CE Loss : tensor(1.3487, device='cuda:0')\n",
      "Epoch : 4 Iter : 0 VAT Loss : tensor(0.2652, device='cuda:0') CE Loss : tensor(1.2450, device='cuda:0')\n",
      "Epoch : 4 Iter : 100 VAT Loss : tensor(0.2783, device='cuda:0') CE Loss : tensor(1.1006, device='cuda:0')\n",
      "Epoch : 4 Iter : 200 VAT Loss : tensor(0.2791, device='cuda:0') CE Loss : tensor(1.1711, device='cuda:0')\n",
      "Epoch : 4 Iter : 300 VAT Loss : tensor(0.2584, device='cuda:0') CE Loss : tensor(1.0703, device='cuda:0')\n",
      "Epoch : 5 Iter : 0 VAT Loss : tensor(0.3014, device='cuda:0') CE Loss : tensor(1.2305, device='cuda:0')\n",
      "Epoch : 5 Iter : 100 VAT Loss : tensor(0.3204, device='cuda:0') CE Loss : tensor(1.2686, device='cuda:0')\n",
      "Epoch : 5 Iter : 200 VAT Loss : tensor(0.3596, device='cuda:0') CE Loss : tensor(1.1158, device='cuda:0')\n",
      "Epoch : 5 Iter : 300 VAT Loss : tensor(0.2888, device='cuda:0') CE Loss : tensor(1.1400, device='cuda:0')\n",
      "Train accuracy : tensor(0.7500, device='cuda:0')\n",
      "Test accuracy : tensor(0.5200, device='cuda:0')\n",
      "Epoch : 6 Iter : 0 VAT Loss : tensor(0.2603, device='cuda:0') CE Loss : tensor(1.1511, device='cuda:0')\n",
      "Epoch : 6 Iter : 100 VAT Loss : tensor(0.2939, device='cuda:0') CE Loss : tensor(1.2036, device='cuda:0')\n",
      "Epoch : 6 Iter : 200 VAT Loss : tensor(0.2775, device='cuda:0') CE Loss : tensor(1.0751, device='cuda:0')\n",
      "Epoch : 6 Iter : 300 VAT Loss : tensor(0.3531, device='cuda:0') CE Loss : tensor(1.0371, device='cuda:0')\n",
      "Epoch : 7 Iter : 0 VAT Loss : tensor(0.3472, device='cuda:0') CE Loss : tensor(0.8226, device='cuda:0')\n",
      "Epoch : 7 Iter : 100 VAT Loss : tensor(0.3082, device='cuda:0') CE Loss : tensor(0.8525, device='cuda:0')\n",
      "Epoch : 7 Iter : 200 VAT Loss : tensor(0.3314, device='cuda:0') CE Loss : tensor(0.9720, device='cuda:0')\n",
      "Epoch : 7 Iter : 300 VAT Loss : tensor(0.3693, device='cuda:0') CE Loss : tensor(0.9650, device='cuda:0')\n",
      "Epoch : 8 Iter : 0 VAT Loss : tensor(0.3823, device='cuda:0') CE Loss : tensor(0.8064, device='cuda:0')\n",
      "Epoch : 8 Iter : 100 VAT Loss : tensor(0.3573, device='cuda:0') CE Loss : tensor(0.7744, device='cuda:0')\n",
      "Epoch : 8 Iter : 200 VAT Loss : tensor(0.3140, device='cuda:0') CE Loss : tensor(0.7313, device='cuda:0')\n",
      "Epoch : 8 Iter : 300 VAT Loss : tensor(0.4372, device='cuda:0') CE Loss : tensor(0.7642, device='cuda:0')\n",
      "Epoch : 9 Iter : 0 VAT Loss : tensor(0.3804, device='cuda:0') CE Loss : tensor(0.7927, device='cuda:0')\n",
      "Epoch : 9 Iter : 100 VAT Loss : tensor(0.4348, device='cuda:0') CE Loss : tensor(0.6187, device='cuda:0')\n",
      "Epoch : 9 Iter : 200 VAT Loss : tensor(0.4360, device='cuda:0') CE Loss : tensor(0.5748, device='cuda:0')\n",
      "Epoch : 9 Iter : 300 VAT Loss : tensor(0.3704, device='cuda:0') CE Loss : tensor(0.6396, device='cuda:0')\n",
      "Train accuracy : tensor(1., device='cuda:0')\n",
      "Test accuracy : tensor(0.5500, device='cuda:0')\n",
      "Full test accuracy : tensor(0.5148, device='cuda:0')\n"
     ]
    }
   ],
   "source": [
    "train_data = []\n",
    "train_target = []\n",
    "\n",
    "for (data, target) in train_loader:\n",
    "    train_data.append(data)\n",
    "    train_target.append(target)\n",
    "\n",
    "train_data = torch.cat(train_data, dim=0)\n",
    "train_target = torch.cat(train_target, dim=0)\n",
    "\n",
    "valid_data, train_data = train_data[:num_valid, ], train_data[num_valid:, ]\n",
    "valid_target, train_target = train_target[:num_valid], train_target[num_valid:, ]\n",
    "\n",
    "labeled_train, labeled_target = train_data[:num_labeled, ], train_target[:num_labeled, ]\n",
    "unlabeled_train = train_data[num_labeled:, ]\n",
    "\n",
    "model = tocuda(VAT(opt.top_bn))\n",
    "model.apply(weights_init)\n",
    "optimizer = optim.Adam(model.parameters(), lr=lr)\n",
    "\n",
    "train_vat_loss = []\n",
    "train_ce_loss = []\n",
    "train_epoch = []\n",
    "train_iter = []\n",
    "\n",
    "epoch_list = []\n",
    "train_acc = []\n",
    "test_acc = []\n",
    "\n",
    "# train the network\n",
    "for epoch in range(opt.num_epochs):\n",
    "\n",
    "    if epoch > opt.epoch_decay_start:\n",
    "        decayed_lr = (opt.num_epochs - epoch) * lr / (opt.num_epochs - opt.epoch_decay_start)\n",
    "        optimizer.lr = decayed_lr\n",
    "        optimizer.betas = (0.5, 0.999)\n",
    "\n",
    "    for i in range(num_iter_per_epoch):\n",
    "\n",
    "        batch_indices = torch.LongTensor(np.random.choice(labeled_train.size()[0], batch_size, replace=False))\n",
    "        x = labeled_train[batch_indices]\n",
    "        y = labeled_target[batch_indices]\n",
    "        batch_indices_unlabeled = torch.LongTensor(np.random.choice(unlabeled_train.size()[0], unlabeled_batch_size, replace=False))\n",
    "        ul_x = unlabeled_train[batch_indices_unlabeled]\n",
    "\n",
    "        v_loss, ce_loss = train(model.train(), Variable(tocuda(x)), Variable(tocuda(y)), Variable(tocuda(ul_x)),\n",
    "                                optimizer)\n",
    "\n",
    "        if i % 100 == 0:\n",
    "            print(\"Epoch :\", epoch, \"Iter :\", i, \"VAT Loss :\", v_loss.data, \"CE Loss :\", ce_loss.data)\n",
    "            train_epoch.append(epoch)\n",
    "            train_iter.append(i)\n",
    "            train_vat_loss.append(v_loss.data.item())\n",
    "            train_ce_loss.append(ce_loss.data.item())\n",
    "\n",
    "    if epoch % eval_freq == 0 or epoch + 1 == opt.num_epochs:\n",
    "        \n",
    "        epoch_list.append(epoch)\n",
    "\n",
    "        batch_indices = torch.LongTensor(np.random.choice(labeled_train.size()[0], batch_size, replace=False))\n",
    "        x = labeled_train[batch_indices]\n",
    "        y = labeled_target[batch_indices]\n",
    "        train_accuracy = eval(model.eval(), Variable(tocuda(x)), Variable(tocuda(y)))\n",
    "        print(\"Train accuracy :\", train_accuracy.data)\n",
    "        train_acc.append(train_accuracy.data.item())\n",
    "\n",
    "        for (data, target) in test_loader:\n",
    "            test_accuracy = eval(model.eval(), Variable(tocuda(data)), Variable(tocuda(target)))\n",
    "            print(\"Test accuracy :\", test_accuracy.data)\n",
    "            test_acc.append(test_accuracy.data.item())\n",
    "            break\n",
    "\n",
    "\n",
    "test_accuracy = 0.0\n",
    "counter = 0\n",
    "for (data, target) in test_loader:\n",
    "    n = data.size()[0]\n",
    "    acc = eval(model.eval(), Variable(tocuda(data)), Variable(tocuda(target)))\n",
    "    test_accuracy += n*acc\n",
    "    counter += n\n",
    "\n",
    "print(\"Full test accuracy :\", test_accuracy.data/counter)"
   ]
  },
  {
   "cell_type": "code",
   "execution_count": 41,
   "id": "0c6f240c",
   "metadata": {},
   "outputs": [
    {
     "data": {
      "text/html": [
       "<div>\n",
       "<style scoped>\n",
       "    .dataframe tbody tr th:only-of-type {\n",
       "        vertical-align: middle;\n",
       "    }\n",
       "\n",
       "    .dataframe tbody tr th {\n",
       "        vertical-align: top;\n",
       "    }\n",
       "\n",
       "    .dataframe thead th {\n",
       "        text-align: right;\n",
       "    }\n",
       "</style>\n",
       "<table border=\"1\" class=\"dataframe\">\n",
       "  <thead>\n",
       "    <tr style=\"text-align: right;\">\n",
       "      <th></th>\n",
       "      <th>epoch</th>\n",
       "      <th>iteration</th>\n",
       "      <th>vat_loss</th>\n",
       "      <th>train_ce_loss</th>\n",
       "    </tr>\n",
       "  </thead>\n",
       "  <tbody>\n",
       "    <tr>\n",
       "      <th>0</th>\n",
       "      <td>0</td>\n",
       "      <td>0</td>\n",
       "      <td>0.707334</td>\n",
       "      <td>2.623639</td>\n",
       "    </tr>\n",
       "    <tr>\n",
       "      <th>1</th>\n",
       "      <td>0</td>\n",
       "      <td>100</td>\n",
       "      <td>0.137900</td>\n",
       "      <td>1.973405</td>\n",
       "    </tr>\n",
       "    <tr>\n",
       "      <th>2</th>\n",
       "      <td>0</td>\n",
       "      <td>200</td>\n",
       "      <td>0.114106</td>\n",
       "      <td>1.841077</td>\n",
       "    </tr>\n",
       "    <tr>\n",
       "      <th>3</th>\n",
       "      <td>0</td>\n",
       "      <td>300</td>\n",
       "      <td>0.135799</td>\n",
       "      <td>1.662609</td>\n",
       "    </tr>\n",
       "    <tr>\n",
       "      <th>4</th>\n",
       "      <td>1</td>\n",
       "      <td>0</td>\n",
       "      <td>0.135783</td>\n",
       "      <td>1.667272</td>\n",
       "    </tr>\n",
       "  </tbody>\n",
       "</table>\n",
       "</div>"
      ],
      "text/plain": [
       "   epoch  iteration  vat_loss  train_ce_loss\n",
       "0      0          0  0.707334       2.623639\n",
       "1      0        100  0.137900       1.973405\n",
       "2      0        200  0.114106       1.841077\n",
       "3      0        300  0.135799       1.662609\n",
       "4      1          0  0.135783       1.667272"
      ]
     },
     "execution_count": 41,
     "metadata": {},
     "output_type": "execute_result"
    }
   ],
   "source": [
    "train_loss_df = pd.DataFrame({'epoch': train_epoch, 'iteration': train_iter, 'vat_loss': train_vat_loss, 'train_ce_loss': train_ce_loss})\n",
    "train_loss_df.round(4).to_csv('./result/cifar10_1000_loss.csv',index=False)\n",
    "train_loss_df.head()"
   ]
  },
  {
   "cell_type": "code",
   "execution_count": 42,
   "id": "1db36277",
   "metadata": {},
   "outputs": [
    {
     "data": {
      "text/html": [
       "<div>\n",
       "<style scoped>\n",
       "    .dataframe tbody tr th:only-of-type {\n",
       "        vertical-align: middle;\n",
       "    }\n",
       "\n",
       "    .dataframe tbody tr th {\n",
       "        vertical-align: top;\n",
       "    }\n",
       "\n",
       "    .dataframe thead th {\n",
       "        text-align: right;\n",
       "    }\n",
       "</style>\n",
       "<table border=\"1\" class=\"dataframe\">\n",
       "  <thead>\n",
       "    <tr style=\"text-align: right;\">\n",
       "      <th></th>\n",
       "      <th>epoch</th>\n",
       "      <th>train_acc</th>\n",
       "      <th>test_acc</th>\n",
       "    </tr>\n",
       "  </thead>\n",
       "  <tbody>\n",
       "    <tr>\n",
       "      <th>0</th>\n",
       "      <td>0</td>\n",
       "      <td>0.46875</td>\n",
       "      <td>0.36</td>\n",
       "    </tr>\n",
       "    <tr>\n",
       "      <th>1</th>\n",
       "      <td>5</td>\n",
       "      <td>0.75000</td>\n",
       "      <td>0.52</td>\n",
       "    </tr>\n",
       "    <tr>\n",
       "      <th>2</th>\n",
       "      <td>9</td>\n",
       "      <td>1.00000</td>\n",
       "      <td>0.55</td>\n",
       "    </tr>\n",
       "  </tbody>\n",
       "</table>\n",
       "</div>"
      ],
      "text/plain": [
       "   epoch  train_acc  test_acc\n",
       "0      0    0.46875      0.36\n",
       "1      5    0.75000      0.52\n",
       "2      9    1.00000      0.55"
      ]
     },
     "execution_count": 42,
     "metadata": {},
     "output_type": "execute_result"
    }
   ],
   "source": [
    "loss_df = pd.DataFrame({'epoch' : epoch_list, 'train_acc' : train_acc, 'test_acc' : test_acc})\n",
    "loss_df.round(4).to_csv('./result/cifar10_1000_acc.csv',index=False)\n",
    "loss_df.head()"
   ]
  },
  {
   "cell_type": "code",
   "execution_count": 43,
   "id": "f67f4321",
   "metadata": {},
   "outputs": [
    {
     "data": {
      "text/plain": [
       "<matplotlib.legend.Legend at 0x7f055d30f320>"
      ]
     },
     "execution_count": 43,
     "metadata": {},
     "output_type": "execute_result"
    },
    {
     "data": {
      "image/png": "[encoded data removed]",
      "text/plain": [
       "<Figure size 864x288 with 1 Axes>"
      ]
     },
     "metadata": {
      "needs_background": "light"
     },
     "output_type": "display_data"
    }
   ],
   "source": [
    "plt.title('Loss plot : Cifar10 ', fontsize=20)\n",
    "p = sns.lineplot(data = train_loss_df, x = train_loss_df.index, y = 'vat_loss', color= 'r')\n",
    "p = sns.lineplot(data = train_loss_df, x = train_loss_df.index, y = 'train_ce_loss', color = 'b')\n",
    "p.set_ylabel('loss', fontsize = 12)\n",
    "plt.legend(labels=[\"VAT loss\",\"CE loss\"])"
   ]
  },
  {
   "cell_type": "code",
   "execution_count": 44,
   "id": "854d65ad",
   "metadata": {},
   "outputs": [
    {
     "data": {
      "text/plain": [
       "<matplotlib.legend.Legend at 0x7f055d35fef0>"
      ]
     },
     "execution_count": 44,
     "metadata": {},
     "output_type": "execute_result"
    },
    {
     "data": {
      "image/png": "[encoded data removed]",
      "text/plain": [
       "<Figure size 864x288 with 1 Axes>"
      ]
     },
     "metadata": {
      "needs_background": "light"
     },
     "output_type": "display_data"
    }
   ],
   "source": [
    "p = sns.lineplot(data = loss_df, x = 'epoch', y = 'train_acc', color= 'r')\n",
    "p = sns.lineplot(data = loss_df, x = 'epoch', y = 'test_acc', color = 'b')\n",
    "p.set_ylabel('accuracy', fontsize = 12)\n",
    "plt.legend(labels=[\"Train accuracy\",\"Test accuracy\"])"
   ]
  },
  {
   "attachments": {},
   "cell_type": "markdown",
   "id": "9960cd55",
   "metadata": {},
   "source": [
    "### **Analysis**\n",
    "\n",
    "labels : 훈련에 사용되는 label 데이터 수\n",
    "\n",
    "|**labels**|1000|2000|4000|\n",
    "|:--:|:--:|:--:|:--:|\n",
    "|**accuracy**|0.5148|0.5456|0.5745|\n",
    "\n",
    "label 수를 각각 1000, 2000, 4000으로 설정하였을 떄, label 수가 증가할수록 성능이 점차 향상되는 모습을 확인할 수 있었습니다. 이는 학습에 있어 label 데이터의 확보가 중요하다는 점을 의미하며 특히 두가지 loss function 중 cross entropy loss와 연관이 되어 있어 결론적으로 전체 성능에 영향을 준다는 점을 확인할 수 있었습니다."
   ]
  }
 ],
 "metadata": {
  "kernelspec": {
   "display_name": "Python 3",
   "language": "python",
   "name": "python3"
  },
  "language_info": {
   "codemirror_mode": {
    "name": "ipython",
    "version": 3
   },
   "file_extension": ".py",
   "mimetype": "text/x-python",
   "name": "python",
   "nbconvert_exporter": "python",
   "pygments_lexer": "ipython3",
   "version": "3.6.9 (default, Nov 25 2022, 14:10:45) \n[GCC 8.4.0]"
  },
  "vscode": {
   "interpreter": {
    "hash": "31f2aee4e71d21fbe5cf8b01ff0e069b9275f58929596ceb00d14d90e3e16cd6"
   }
  }
 },
 "nbformat": 4,
 "nbformat_minor": 5
}
